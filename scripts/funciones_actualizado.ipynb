{
 "cells": [
  {
   "cell_type": "markdown",
   "metadata": {},
   "source": [
    "### Funciones de limpieza"
   ]
  },
  {
   "cell_type": "markdown",
   "metadata": {},
   "source": [
    "#### Funciones de limpieza de la presión arterial"
   ]
  },
  {
   "cell_type": "code",
   "execution_count": 1,
   "metadata": {},
   "outputs": [],
   "source": [
    "def correct_TA(row, value_ranges,step):\n",
    "    \"\"\"\n",
    "        Recibe un valor y un rango, corrige el valor en una forma recursiva con diferentes estrategias.\n",
    "        Si el valor corregido no se encuentra en el rango devuelve nan\n",
    "    \"\"\"\n",
    "    if step == 1: row = abs(row)\n",
    "    elif step == 2: row = row*10\n",
    "    elif step == 3: row = row/100\n",
    "    if (row >= value_ranges[0] and row <= value_ranges[1]):\n",
    "       return row\n",
    "    elif step==4:\n",
    "        return 999\n",
    "    else: \n",
    "        return correct_TA(row,value_ranges, step+1)"
   ]
  },
  {
   "cell_type": "code",
   "execution_count": 2,
   "metadata": {},
   "outputs": [],
   "source": [
    "# correct_TA?"
   ]
  },
  {
   "cell_type": "code",
   "execution_count": 3,
   "metadata": {},
   "outputs": [],
   "source": [
    "def complete_TA(row):\n",
    "    \"\"\"\n",
    "        Completa el valor de TAS o TAD con un delta de 40 en relación con el otro parámetro.\n",
    "        Si no lo puede calcular devuelve nan.\n",
    "    \"\"\"\n",
    "    if row['TAS']==999 or row['TAD']==999:  # si TAD o TAD  no tienen datos\n",
    "        if row['TAS']==999 and row['TAD']==999:  # Si ambos estan sin datos completa con nan\n",
    "            import numpy as np\n",
    "            row['TAS'] = np.NaN\n",
    "            row['TAD'] = np.NaN\n",
    "        else:\n",
    "            if row['TAS']==999:         # Si TAS sin datos \n",
    "                row['TAS'] = row['TAD']+40\n",
    "            else:\n",
    "                row['TAD'] = row['TAS']-40  # si TAD sin datos\n",
    "                if row['TAD'] >= 120:\n",
    "                    row['TAD'] = 120\n",
    "    return row"
   ]
  },
  {
   "cell_type": "code",
   "execution_count": 4,
   "metadata": {},
   "outputs": [],
   "source": [
    "def control_TA(row):\n",
    "    \"\"\"\n",
    "        Chequea que la TAS sea mayor que la TAD, si no es asi reemplaza la TAD por TAS-40\n",
    "    \"\"\"\n",
    "    if not (row['TAS'] > row['TAD']):\n",
    "        row['TAD'] = row['TAS'] -40\n",
    "    return row\n",
    "        "
   ]
  },
  {
   "cell_type": "code",
   "execution_count": 5,
   "metadata": {},
   "outputs": [],
   "source": [
    "def exploracion(df, columna):\n",
    "    \"\"\"\n",
    "    Realiza una descripción y un boxplot de la columna seleccionada.\n",
    "    \n",
    "    Parámetros\n",
    "    ----------\n",
    "    df: pandas.core.frame.DataFrame\n",
    "        DataFrame a analizar\n",
    "    columna: str\n",
    "        Columna a analizar\n",
    "           \n",
    "    Returns\n",
    "    -------\n",
    "    pandas.core.series.Series: \n",
    "        Descripción de la columna seleccionada\n",
    "        \n",
    "    matplotlib.axes._subplots.AxesSubplot: \n",
    "        Boxplot de la columna seleccionada\n",
    "    \"\"\"\n",
    "    describe = df[columna].describe()\n",
    "    grafico = sns.boxplot(data= df, x = columna)\n",
    "    titulo = (\"Distribucion de la columna: \" + columna.title())\n",
    "    plt.title(titulo)\n",
    "    plt.show()\n",
    "\n",
    "    print(\"Descripcion de la columna\", columna.title(), \"\\n\", describe)"
   ]
  },
  {
   "cell_type": "code",
   "execution_count": 6,
   "metadata": {},
   "outputs": [],
   "source": [
    "def eliminar_outliers(df, columna, lim_inf, lim_sup):\n",
    "    \"\"\"\n",
    "    Elimina outliers en base a los límites seleccionados.\n",
    "    \n",
    "    Parámetros\n",
    "    ----------\n",
    "    df: pandas.core.frame.DataFrame\n",
    "        DataFrame a analizar\n",
    "    arg_2: str\n",
    "        Columna a analizar\n",
    "    lim_inf: int\n",
    "        Límite inferior \n",
    "    lim_sup: int\n",
    "        Límite superior  \n",
    "    Returns\n",
    "    -------\n",
    "    pandas.core.series.Series\n",
    "        DataFrame con los outliers eliminados\n",
    "    \"\"\"\n",
    "    print(\"Shape del dataframe inicial:\", df.shape)\n",
    "    \n",
    "    mask_lim_inf = df[columna] < lim_inf\n",
    "    mask_lim_sup = df[columna] > lim_sup\n",
    "    \n",
    "    out_data = df[mask_lim_inf | mask_lim_sup]\n",
    "    \n",
    "    df.drop(out_data.index, inplace=True)\n",
    "    \n",
    "    print(\"Shape del dataframe luego de eliminar outliers:\", df.shape)"
   ]
  },
  {
   "cell_type": "code",
   "execution_count": 7,
   "metadata": {},
   "outputs": [],
   "source": [
    "def BMI_categorico(df, col_continua, col_categorica, peso, altura, bins, labels):\n",
    "    \"\"\"\n",
    "    En base al peso y la altura calcula el BMI, reemplazando la columna \"BMI\" del dataset original.\n",
    "    A su vez crea una columna con BMI categorizado, reemplazando a la columna \"BMICat\".\n",
    "        \n",
    "    Parámetros\n",
    "    ----------\n",
    "    df: pandas.core.frame.DataFrame\n",
    "        DataFrame a analizar\n",
    "    col_continua: str\n",
    "        Columna con datos continuos\n",
    "    col_categorica: str\n",
    "        Columna con datos categóricos\n",
    "    peso: str\n",
    "        Columna con datos del tipo int, expresando el peso en kg\n",
    "    peso: str\n",
    "        Columna con datos del tipo int, expresando la altura en cm\n",
    "    bins: list of floats\n",
    "        Lista con la cantidad de bins a formar.\n",
    "    labels: list of str\n",
    "        Lista con la cantidad de labels a formar\n",
    "    Returns\n",
    "    -------\n",
    "    pandas.core.series.Series: \n",
    "        Columna BMI recalculada\n",
    "        Columna BMICat recalculada \n",
    "    \"\"\"\n",
    "    print(\"Valores únicos por categoría antes del tratamiento de los datos:\\n\",\n",
    "          data.BMICat.value_counts())\n",
    "    \n",
    "    df[col_continua] = ((df[peso] / (df[altura] ** 2)) * 10000).round(2)\n",
    "    \n",
    "\n",
    "    df[col_categorica] = pd.cut(df[col_continua], bins, labels = group_labels)\n",
    "\n",
    "    print(\"Valores únicos por categoría después del tratamiento de los datos:\\n\",\n",
    "          data.BMICat.value_counts())\n",
    "    \n",
    "    return df[[col_continua, col_categorica]].head()"
   ]
  },
  {
   "cell_type": "code",
   "execution_count": 8,
   "metadata": {},
   "outputs": [
    {
     "data": {
      "text/plain": [
       "'\\nDescription of what the function does.\\nParameters\\n----------\\narg_1 : expected type of arg_1\\nDescription of arg_1.\\narg_2 : int, optional\\nWrite optional when an argument has a default value.\\nDefault=42.\\nReturns\\n-------\\nThe type of the return value\\nCan include a description of the return value.\\nReplace \"Returns\" with \"Yields\" if this function is a generator.\\n'"
      ]
     },
     "execution_count": 8,
     "metadata": {},
     "output_type": "execute_result"
    }
   ],
   "source": [
    "\"\"\"\n",
    "Description of what the function does.\n",
    "Parameters\n",
    "----------\n",
    "arg_1 : expected type of arg_1\n",
    "Description of arg_1.\n",
    "arg_2 : int, optional\n",
    "Write optional when an argument has a default value.\n",
    "Default=42.\n",
    "Returns\n",
    "-------\n",
    "The type of the return value\n",
    "Can include a description of the return value.\n",
    "Replace \"Returns\" with \"Yields\" if this function is a generator.\n",
    "\"\"\""
   ]
  },
  {
   "cell_type": "code",
   "execution_count": null,
   "metadata": {},
   "outputs": [],
   "source": []
  }
 ],
 "metadata": {
  "kernelspec": {
   "display_name": "Python 3",
   "language": "python",
   "name": "python3"
  },
  "language_info": {
   "codemirror_mode": {
    "name": "ipython",
    "version": 3
   },
   "file_extension": ".py",
   "mimetype": "text/x-python",
   "name": "python",
   "nbconvert_exporter": "python",
   "pygments_lexer": "ipython3",
   "version": "3.8.8"
  }
 },
 "nbformat": 4,
 "nbformat_minor": 2
}
