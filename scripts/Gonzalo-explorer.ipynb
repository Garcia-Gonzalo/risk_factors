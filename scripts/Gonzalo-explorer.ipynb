{
 "cells": [
  {
   "cell_type": "markdown",
   "metadata": {},
   "source": [
    "### Exploración de features. Gonzalo: ap_hi, ap_lo, cholesterol y gluc"
   ]
  },
  {
   "cell_type": "code",
   "execution_count": 24,
   "metadata": {},
   "outputs": [],
   "source": [
    "import pandas as pd\n",
    "import matplotlib.pyplot as plt\n",
    "import seaborn as sns\n"
   ]
  },
  {
   "cell_type": "code",
   "execution_count": 43,
   "metadata": {},
   "outputs": [],
   "source": [
    "# Se cargan las funciones desde la otra notebook\n",
    "%run 'funciones.ipynb'"
   ]
  },
  {
   "cell_type": "code",
   "execution_count": 26,
   "metadata": {},
   "outputs": [],
   "source": [
    "data = pd.read_csv('../data/Health Screening Data.csv', index_col= None)\n",
    "data = data.drop(columns=['Unnamed: 0', 'id',])\n"
   ]
  },
  {
   "cell_type": "code",
   "execution_count": 27,
   "metadata": {},
   "outputs": [
    {
     "data": {
      "text/plain": [
       "ap_hi          0\n",
       "ap_lo          0\n",
       "cholesterol    0\n",
       "gluc           0\n",
       "dtype: int64"
      ]
     },
     "execution_count": 27,
     "metadata": {},
     "output_type": "execute_result"
    }
   ],
   "source": [
    "columns = ['ap_hi', 'ap_lo', 'cholesterol', 'gluc']\n",
    "data[columns].isnull().sum()"
   ]
  },
  {
   "cell_type": "code",
   "execution_count": 28,
   "metadata": {},
   "outputs": [
    {
     "data": {
      "text/html": [
       "<div>\n",
       "<style scoped>\n",
       "    .dataframe tbody tr th:only-of-type {\n",
       "        vertical-align: middle;\n",
       "    }\n",
       "\n",
       "    .dataframe tbody tr th {\n",
       "        vertical-align: top;\n",
       "    }\n",
       "\n",
       "    .dataframe thead th {\n",
       "        text-align: right;\n",
       "    }\n",
       "</style>\n",
       "<table border=\"1\" class=\"dataframe\">\n",
       "  <thead>\n",
       "    <tr style=\"text-align: right;\">\n",
       "      <th></th>\n",
       "      <th>ap_hi</th>\n",
       "      <th>ap_lo</th>\n",
       "      <th>cholesterol</th>\n",
       "      <th>gluc</th>\n",
       "    </tr>\n",
       "  </thead>\n",
       "  <tbody>\n",
       "    <tr>\n",
       "      <th>count</th>\n",
       "      <td>69960.000000</td>\n",
       "      <td>69960.000000</td>\n",
       "      <td>69960.000000</td>\n",
       "      <td>69960.000000</td>\n",
       "    </tr>\n",
       "    <tr>\n",
       "      <th>mean</th>\n",
       "      <td>126.681089</td>\n",
       "      <td>96.647642</td>\n",
       "      <td>1.366852</td>\n",
       "      <td>1.226487</td>\n",
       "    </tr>\n",
       "    <tr>\n",
       "      <th>std</th>\n",
       "      <td>18.205557</td>\n",
       "      <td>188.523437</td>\n",
       "      <td>0.680280</td>\n",
       "      <td>0.572285</td>\n",
       "    </tr>\n",
       "    <tr>\n",
       "      <th>min</th>\n",
       "      <td>-150.000000</td>\n",
       "      <td>-70.000000</td>\n",
       "      <td>1.000000</td>\n",
       "      <td>1.000000</td>\n",
       "    </tr>\n",
       "    <tr>\n",
       "      <th>25%</th>\n",
       "      <td>120.000000</td>\n",
       "      <td>80.000000</td>\n",
       "      <td>1.000000</td>\n",
       "      <td>1.000000</td>\n",
       "    </tr>\n",
       "    <tr>\n",
       "      <th>50%</th>\n",
       "      <td>120.000000</td>\n",
       "      <td>80.000000</td>\n",
       "      <td>1.000000</td>\n",
       "      <td>1.000000</td>\n",
       "    </tr>\n",
       "    <tr>\n",
       "      <th>75%</th>\n",
       "      <td>140.000000</td>\n",
       "      <td>90.000000</td>\n",
       "      <td>2.000000</td>\n",
       "      <td>1.000000</td>\n",
       "    </tr>\n",
       "    <tr>\n",
       "      <th>max</th>\n",
       "      <td>240.000000</td>\n",
       "      <td>11000.000000</td>\n",
       "      <td>3.000000</td>\n",
       "      <td>3.000000</td>\n",
       "    </tr>\n",
       "  </tbody>\n",
       "</table>\n",
       "</div>"
      ],
      "text/plain": [
       "              ap_hi         ap_lo   cholesterol          gluc\n",
       "count  69960.000000  69960.000000  69960.000000  69960.000000\n",
       "mean     126.681089     96.647642      1.366852      1.226487\n",
       "std       18.205557    188.523437      0.680280      0.572285\n",
       "min     -150.000000    -70.000000      1.000000      1.000000\n",
       "25%      120.000000     80.000000      1.000000      1.000000\n",
       "50%      120.000000     80.000000      1.000000      1.000000\n",
       "75%      140.000000     90.000000      2.000000      1.000000\n",
       "max      240.000000  11000.000000      3.000000      3.000000"
      ]
     },
     "execution_count": 28,
     "metadata": {},
     "output_type": "execute_result"
    }
   ],
   "source": [
    "data[columns].describe()"
   ]
  },
  {
   "cell_type": "markdown",
   "metadata": {},
   "source": [
    "#### Presion Arterial: "
   ]
  },
  {
   "cell_type": "markdown",
   "metadata": {},
   "source": [
    "##### ap_hi"
   ]
  },
  {
   "cell_type": "code",
   "execution_count": 29,
   "metadata": {},
   "outputs": [
    {
     "name": "stdout",
     "output_type": "stream",
     "text": [
      "valores de TAS menores de 90 mmHg: 321\n",
      "valores de TAS mayores de 240 mmHg: 0\n"
     ]
    }
   ],
   "source": [
    "# ap_hi. \n",
    "print(f'valores de TAS menores de 90 mmHg: {data.ap_hi[(data.ap_hi<90)].count()}')\n",
    "print(f'valores de TAS mayores de 240 mmHg: {data.ap_hi[(data.ap_hi>240)].count()}')"
   ]
  },
  {
   "cell_type": "code",
   "execution_count": 30,
   "metadata": {},
   "outputs": [
    {
     "data": {
      "text/plain": [
       "array([  80,   14,   70,   11,   12,   10,   16, -100,   85,    7,   15,\n",
       "         17,    1,   13,   60, -115,   20, -140, -120, -150,   24])"
      ]
     },
     "execution_count": 30,
     "metadata": {},
     "output_type": "execute_result"
    }
   ],
   "source": [
    "# Analisis del los valores menores a 90 mmHg\n",
    "data.ap_hi[data.ap_hi<90].unique()\n"
   ]
  },
  {
   "cell_type": "markdown",
   "metadata": {},
   "source": [
    "##### ap_lo"
   ]
  },
  {
   "cell_type": "code",
   "execution_count": 31,
   "metadata": {},
   "outputs": [
    {
     "name": "stdout",
     "output_type": "stream",
     "text": [
      "valores con TAD menores de 40 mmHg: 52\n",
      "valores con TAD mayores de 120 mmHg: 1056\n"
     ]
    }
   ],
   "source": [
    "print(f'valores con TAD menores de 40 mmHg: {data.ap_lo[data.ap_lo<40].count()}')\n",
    "print(f'valores con TAD mayores de 120 mmHg: {data.ap_lo[data.ap_lo>120].count()}')"
   ]
  },
  {
   "cell_type": "code",
   "execution_count": 32,
   "metadata": {},
   "outputs": [
    {
     "data": {
      "text/plain": [
       "array([ 1100,  1000,   800,    30,  1033,   150,  1001,  1200, 10000,\n",
       "        8044,   140,  1044,   125,   170,   160,   130,  9100,    10,\n",
       "         902,     8,  1008,  2088,    20,   802,  8000,  1022,   850,\n",
       "         708,  9011,  1011,     0,  1007,  1177,  7100,   709,  8500,\n",
       "        1110,  8099,  1088,   126,  1077,  1120,     7,  1125,   180,\n",
       "         121,  8100,   710,  5700,  8079,  1111,  1003,     6,  1900,\n",
       "         809,   801,  1002,     1,   182,   810,     9,  7099, 11000,\n",
       "        9800,  8200,  1139,   820,  1400,   190,   900,   122,  6800,\n",
       "         135,   700,    15,  1101,   910,  1140,  1211,   -70,  8077,\n",
       "         901,   880,   870,   585,   602])"
      ]
     },
     "execution_count": 32,
     "metadata": {},
     "output_type": "execute_result"
    }
   ],
   "source": [
    "# Analisis del los valores menores de 40 y mayores de 120 mmHg\n",
    "data.ap_lo[(data.ap_lo<40)|(data.ap_lo>120)].unique()"
   ]
  },
  {
   "cell_type": "code",
   "execution_count": 44,
   "metadata": {},
   "outputs": [],
   "source": [
    "# corrección TAS y TAD (se consideran diferentes errores de carga)\n",
    "# funcion importada\n",
    "data['TAS'] = data.ap_hi.apply(correct_TA, args=((90,240),0))\n",
    "data['TAD'] = data.ap_lo.apply(correct_TA, args=((40,120),0))"
   ]
  },
  {
   "cell_type": "code",
   "execution_count": 45,
   "metadata": {},
   "outputs": [],
   "source": [
    "# Se eliminan las columnas ap_hi y ap_lo\n",
    "data.drop(columns=['ap_hi','ap_lo'], inplace=True)"
   ]
  },
  {
   "cell_type": "code",
   "execution_count": 46,
   "metadata": {},
   "outputs": [
    {
     "name": "stdout",
     "output_type": "stream",
     "text": [
      "cantidad de valores en TAS sin poder corregir: 136\n",
      "cantidad de valores en TAD sin poder corregir: 170\n"
     ]
    }
   ],
   "source": [
    "print(f'cantidad de valores en TAS sin poder corregir: {data.TAS[data.TAS == 999].count()}')\n",
    "print(f'cantidad de valores en TAD sin poder corregir: {data.TAD[data.TAD == 999].count()}')"
   ]
  },
  {
   "cell_type": "code",
   "execution_count": 48,
   "metadata": {},
   "outputs": [],
   "source": [
    "# Se imputan los datos faltantes de TAD o TAS utilizando un delta de 40 mmHg entre uno y otro\n",
    "# funcion importada\n",
    "data = data.apply(complete_TA, axis=1)"
   ]
  },
  {
   "cell_type": "code",
   "execution_count": 50,
   "metadata": {},
   "outputs": [
    {
     "name": "stdout",
     "output_type": "stream",
     "text": [
      "hay 8 casos en que la TAS es <= TAD\n"
     ]
    }
   ],
   "source": [
    "print(f'hay {data.TAS[(data.TAS <= data.TAD)].count()} casos en que la TAS es <= TAD')"
   ]
  },
  {
   "cell_type": "code",
   "execution_count": 51,
   "metadata": {},
   "outputs": [
    {
     "name": "stdout",
     "output_type": "stream",
     "text": [
      "hay 0 casos en que la TAS es <= TAD\n"
     ]
    }
   ],
   "source": [
    "# Se corrigen las incoherencias entre TAS y TAD (considerando la TAS como valor de referencia)\n",
    "# funcion importada\n",
    "data = data.apply(control_TA, axis=1)\n",
    "\n",
    "print(f'hay {data.TAS[(data.TAS <= data.TAD)].count()} casos en que la TAS es <= TAD')"
   ]
  },
  {
   "cell_type": "code",
   "execution_count": 52,
   "metadata": {},
   "outputs": [
    {
     "data": {
      "text/plain": [
       "age             0\n",
       "gender          0\n",
       "height          0\n",
       "weight          0\n",
       "cholesterol     0\n",
       "gluc            0\n",
       "smoke           0\n",
       "alco            0\n",
       "active          0\n",
       "cardio          0\n",
       "AgeinYr         0\n",
       "BMI             0\n",
       "BMICat          0\n",
       "AgeGroup        0\n",
       "TAS            16\n",
       "TAD            16\n",
       "dtype: int64"
      ]
     },
     "execution_count": 52,
     "metadata": {},
     "output_type": "execute_result"
    }
   ],
   "source": [
    "data.isnull().sum()"
   ]
  },
  {
   "cell_type": "code",
   "execution_count": 53,
   "metadata": {},
   "outputs": [],
   "source": [
    "# se eliminan esos 16 valores nulos\n",
    "data = data.dropna()"
   ]
  },
  {
   "cell_type": "markdown",
   "metadata": {},
   "source": [
    "#### Presión de pulso   [explicación](https://en.wikipedia.org/wiki/Pulse_pressure#Relationship_to_heart_disease)"
   ]
  },
  {
   "cell_type": "code",
   "execution_count": 54,
   "metadata": {},
   "outputs": [],
   "source": [
    "# Se genera la variable PP (presión de pulso)\n",
    "data['PP'] = data.TAS - data.TAD"
   ]
  },
  {
   "cell_type": "code",
   "execution_count": 55,
   "metadata": {},
   "outputs": [
    {
     "name": "stdout",
     "output_type": "stream",
     "text": [
      "count    69944.000000\n",
      "mean        45.502615\n",
      "std         11.758858\n",
      "min          5.000000\n",
      "25%         40.000000\n",
      "50%         40.000000\n",
      "75%         50.000000\n",
      "max        140.000000\n",
      "Name: PP, dtype: float64\n"
     ]
    }
   ],
   "source": [
    "print(data.PP.describe())"
   ]
  },
  {
   "cell_type": "code",
   "execution_count": 56,
   "metadata": {},
   "outputs": [],
   "source": [
    "data.to_csv('../data/data_temp_gonza.csv', index_label=False)"
   ]
  },
  {
   "cell_type": "markdown",
   "metadata": {},
   "source": [
    "#### Colesterol, es una variable categórica de tres niveles. No sabemos exactamente a qué responden cada una.\n",
    "[Tres categorias de colesterol total](https://medlineplus.gov/spanish/pruebas-de-laboratorio/niveles-de-colesterol/)"
   ]
  },
  {
   "cell_type": "code",
   "execution_count": 20,
   "metadata": {},
   "outputs": [
    {
     "data": {
      "text/plain": [
       "array([1, 3, 2])"
      ]
     },
     "execution_count": 20,
     "metadata": {},
     "output_type": "execute_result"
    }
   ],
   "source": [
    "data.cholesterol.unique()"
   ]
  },
  {
   "cell_type": "code",
   "execution_count": 21,
   "metadata": {},
   "outputs": [
    {
     "data": {
      "text/plain": [
       "<AxesSubplot:xlabel='cholesterol', ylabel='Count'>"
      ]
     },
     "execution_count": 21,
     "metadata": {},
     "output_type": "execute_result"
    },
    {
     "data": {
      "image/png": "[encoded data removed]",
      "text/plain": [
       "<Figure size 432x288 with 1 Axes>"
      ]
     },
     "metadata": {
      "needs_background": "light"
     },
     "output_type": "display_data"
    }
   ],
   "source": [
    "\n",
    "sns.histplot(data.cholesterol)"
   ]
  },
  {
   "cell_type": "code",
   "execution_count": 22,
   "metadata": {},
   "outputs": [],
   "source": [
    "col_normal = data.cholesterol[data.cholesterol ==1].count()\n",
    "col_patol = data.cholesterol[~(data.cholesterol ==1)].count()"
   ]
  },
  {
   "cell_type": "code",
   "execution_count": 23,
   "metadata": {},
   "outputs": [
    {
     "name": "stdout",
     "output_type": "stream",
     "text": [
      "52348 17596\n"
     ]
    }
   ],
   "source": [
    "print(col_normal, col_patol)"
   ]
  },
  {
   "cell_type": "markdown",
   "metadata": {},
   "source": [
    "#### Glucemia: es una variable categorica de tres niveles. No sabemos a qué corresponde cada uno. Podria ser no diabetes, pre diabetes y diabetes. [Será esta clasficiacion?](https://dtc.ucsf.edu/es/tipos-de-diabetes/diabetes-tipo-1/comprension-de-la-diabetes-tipo-1/datos-basicos/diagnostico-de-la-diabetes/)"
   ]
  },
  {
   "cell_type": "code",
   "execution_count": 24,
   "metadata": {},
   "outputs": [
    {
     "data": {
      "text/plain": [
       "array([1, 2, 3])"
      ]
     },
     "execution_count": 24,
     "metadata": {},
     "output_type": "execute_result"
    }
   ],
   "source": [
    "data.gluc.unique()"
   ]
  },
  {
   "cell_type": "code",
   "execution_count": 108,
   "metadata": {},
   "outputs": [
    {
     "data": {
      "text/plain": [
       "1    59443\n",
       "3     5328\n",
       "2     5189\n",
       "Name: gluc, dtype: int64"
      ]
     },
     "execution_count": 108,
     "metadata": {},
     "output_type": "execute_result"
    }
   ],
   "source": [
    "selection.gluc.value_counts()"
   ]
  },
  {
   "cell_type": "code",
   "execution_count": 25,
   "metadata": {},
   "outputs": [
    {
     "data": {
      "text/plain": [
       "<AxesSubplot:xlabel='gluc', ylabel='Count'>"
      ]
     },
     "execution_count": 25,
     "metadata": {},
     "output_type": "execute_result"
    },
    {
     "data": {
      "image/png": "[encoded data removed]",
      "text/plain": [
       "<Figure size 432x288 with 1 Axes>"
      ]
     },
     "metadata": {
      "needs_background": "light"
     },
     "output_type": "display_data"
    }
   ],
   "source": [
    "sns.histplot(data.gluc)"
   ]
  },
  {
   "cell_type": "code",
   "execution_count": 28,
   "metadata": {},
   "outputs": [
    {
     "data": {
      "text/html": [
       "<div>\n",
       "<style scoped>\n",
       "    .dataframe tbody tr th:only-of-type {\n",
       "        vertical-align: middle;\n",
       "    }\n",
       "\n",
       "    .dataframe tbody tr th {\n",
       "        vertical-align: top;\n",
       "    }\n",
       "\n",
       "    .dataframe thead th {\n",
       "        text-align: right;\n",
       "    }\n",
       "</style>\n",
       "<table border=\"1\" class=\"dataframe\">\n",
       "  <thead>\n",
       "    <tr style=\"text-align: right;\">\n",
       "      <th></th>\n",
       "      <th>age</th>\n",
       "      <th>gender</th>\n",
       "      <th>height</th>\n",
       "      <th>weight</th>\n",
       "      <th>cholesterol</th>\n",
       "      <th>gluc</th>\n",
       "      <th>smoke</th>\n",
       "      <th>alco</th>\n",
       "      <th>active</th>\n",
       "      <th>cardio</th>\n",
       "      <th>AgeinYr</th>\n",
       "      <th>BMI</th>\n",
       "      <th>TAS</th>\n",
       "      <th>TAD</th>\n",
       "      <th>PP</th>\n",
       "    </tr>\n",
       "  </thead>\n",
       "  <tbody>\n",
       "    <tr>\n",
       "      <th>count</th>\n",
       "      <td>69944.000000</td>\n",
       "      <td>69944.000000</td>\n",
       "      <td>69944.000000</td>\n",
       "      <td>69944.000000</td>\n",
       "      <td>69944.000000</td>\n",
       "      <td>69944.000000</td>\n",
       "      <td>69944.000000</td>\n",
       "      <td>69944.000000</td>\n",
       "      <td>69944.000000</td>\n",
       "      <td>69944.000000</td>\n",
       "      <td>69944.000000</td>\n",
       "      <td>69944.000000</td>\n",
       "      <td>69944.000000</td>\n",
       "      <td>69944.000000</td>\n",
       "      <td>69944.000000</td>\n",
       "    </tr>\n",
       "    <tr>\n",
       "      <th>mean</th>\n",
       "      <td>19468.825232</td>\n",
       "      <td>1.349551</td>\n",
       "      <td>164.358630</td>\n",
       "      <td>74.207628</td>\n",
       "      <td>1.366779</td>\n",
       "      <td>1.226410</td>\n",
       "      <td>0.088171</td>\n",
       "      <td>0.053729</td>\n",
       "      <td>0.803643</td>\n",
       "      <td>0.499571</td>\n",
       "      <td>52.840501</td>\n",
       "      <td>27.556279</td>\n",
       "      <td>127.082234</td>\n",
       "      <td>81.607556</td>\n",
       "      <td>45.474678</td>\n",
       "    </tr>\n",
       "    <tr>\n",
       "      <th>std</th>\n",
       "      <td>2467.185476</td>\n",
       "      <td>0.476832</td>\n",
       "      <td>8.210072</td>\n",
       "      <td>14.396807</td>\n",
       "      <td>0.680200</td>\n",
       "      <td>0.572179</td>\n",
       "      <td>0.283545</td>\n",
       "      <td>0.225483</td>\n",
       "      <td>0.397245</td>\n",
       "      <td>0.500003</td>\n",
       "      <td>6.766570</td>\n",
       "      <td>6.093571</td>\n",
       "      <td>17.018217</td>\n",
       "      <td>9.899257</td>\n",
       "      <td>11.713647</td>\n",
       "    </tr>\n",
       "    <tr>\n",
       "      <th>min</th>\n",
       "      <td>10798.000000</td>\n",
       "      <td>1.000000</td>\n",
       "      <td>55.000000</td>\n",
       "      <td>10.000000</td>\n",
       "      <td>1.000000</td>\n",
       "      <td>1.000000</td>\n",
       "      <td>0.000000</td>\n",
       "      <td>0.000000</td>\n",
       "      <td>0.000000</td>\n",
       "      <td>0.000000</td>\n",
       "      <td>29.000000</td>\n",
       "      <td>3.500000</td>\n",
       "      <td>80.000000</td>\n",
       "      <td>40.000000</td>\n",
       "      <td>5.000000</td>\n",
       "    </tr>\n",
       "    <tr>\n",
       "      <th>25%</th>\n",
       "      <td>17664.750000</td>\n",
       "      <td>1.000000</td>\n",
       "      <td>159.000000</td>\n",
       "      <td>65.000000</td>\n",
       "      <td>1.000000</td>\n",
       "      <td>1.000000</td>\n",
       "      <td>0.000000</td>\n",
       "      <td>0.000000</td>\n",
       "      <td>1.000000</td>\n",
       "      <td>0.000000</td>\n",
       "      <td>48.000000</td>\n",
       "      <td>23.900000</td>\n",
       "      <td>120.000000</td>\n",
       "      <td>80.000000</td>\n",
       "      <td>40.000000</td>\n",
       "    </tr>\n",
       "    <tr>\n",
       "      <th>50%</th>\n",
       "      <td>19703.000000</td>\n",
       "      <td>1.000000</td>\n",
       "      <td>165.000000</td>\n",
       "      <td>72.000000</td>\n",
       "      <td>1.000000</td>\n",
       "      <td>1.000000</td>\n",
       "      <td>0.000000</td>\n",
       "      <td>0.000000</td>\n",
       "      <td>1.000000</td>\n",
       "      <td>0.000000</td>\n",
       "      <td>53.000000</td>\n",
       "      <td>26.400000</td>\n",
       "      <td>120.000000</td>\n",
       "      <td>80.000000</td>\n",
       "      <td>40.000000</td>\n",
       "    </tr>\n",
       "    <tr>\n",
       "      <th>75%</th>\n",
       "      <td>21327.000000</td>\n",
       "      <td>2.000000</td>\n",
       "      <td>170.000000</td>\n",
       "      <td>82.000000</td>\n",
       "      <td>2.000000</td>\n",
       "      <td>1.000000</td>\n",
       "      <td>0.000000</td>\n",
       "      <td>0.000000</td>\n",
       "      <td>1.000000</td>\n",
       "      <td>1.000000</td>\n",
       "      <td>58.000000</td>\n",
       "      <td>30.200000</td>\n",
       "      <td>140.000000</td>\n",
       "      <td>90.000000</td>\n",
       "      <td>50.000000</td>\n",
       "    </tr>\n",
       "    <tr>\n",
       "      <th>max</th>\n",
       "      <td>23713.000000</td>\n",
       "      <td>2.000000</td>\n",
       "      <td>250.000000</td>\n",
       "      <td>200.000000</td>\n",
       "      <td>3.000000</td>\n",
       "      <td>3.000000</td>\n",
       "      <td>1.000000</td>\n",
       "      <td>1.000000</td>\n",
       "      <td>1.000000</td>\n",
       "      <td>1.000000</td>\n",
       "      <td>64.000000</td>\n",
       "      <td>298.700000</td>\n",
       "      <td>240.000000</td>\n",
       "      <td>200.000000</td>\n",
       "      <td>140.000000</td>\n",
       "    </tr>\n",
       "  </tbody>\n",
       "</table>\n",
       "</div>"
      ],
      "text/plain": [
       "                age        gender        height        weight   cholesterol  \\\n",
       "count  69944.000000  69944.000000  69944.000000  69944.000000  69944.000000   \n",
       "mean   19468.825232      1.349551    164.358630     74.207628      1.366779   \n",
       "std     2467.185476      0.476832      8.210072     14.396807      0.680200   \n",
       "min    10798.000000      1.000000     55.000000     10.000000      1.000000   \n",
       "25%    17664.750000      1.000000    159.000000     65.000000      1.000000   \n",
       "50%    19703.000000      1.000000    165.000000     72.000000      1.000000   \n",
       "75%    21327.000000      2.000000    170.000000     82.000000      2.000000   \n",
       "max    23713.000000      2.000000    250.000000    200.000000      3.000000   \n",
       "\n",
       "               gluc         smoke          alco        active        cardio  \\\n",
       "count  69944.000000  69944.000000  69944.000000  69944.000000  69944.000000   \n",
       "mean       1.226410      0.088171      0.053729      0.803643      0.499571   \n",
       "std        0.572179      0.283545      0.225483      0.397245      0.500003   \n",
       "min        1.000000      0.000000      0.000000      0.000000      0.000000   \n",
       "25%        1.000000      0.000000      0.000000      1.000000      0.000000   \n",
       "50%        1.000000      0.000000      0.000000      1.000000      0.000000   \n",
       "75%        1.000000      0.000000      0.000000      1.000000      1.000000   \n",
       "max        3.000000      1.000000      1.000000      1.000000      1.000000   \n",
       "\n",
       "            AgeinYr           BMI           TAS           TAD            PP  \n",
       "count  69944.000000  69944.000000  69944.000000  69944.000000  69944.000000  \n",
       "mean      52.840501     27.556279    127.082234     81.607556     45.474678  \n",
       "std        6.766570      6.093571     17.018217      9.899257     11.713647  \n",
       "min       29.000000      3.500000     80.000000     40.000000      5.000000  \n",
       "25%       48.000000     23.900000    120.000000     80.000000     40.000000  \n",
       "50%       53.000000     26.400000    120.000000     80.000000     40.000000  \n",
       "75%       58.000000     30.200000    140.000000     90.000000     50.000000  \n",
       "max       64.000000    298.700000    240.000000    200.000000    140.000000  "
      ]
     },
     "execution_count": 28,
     "metadata": {},
     "output_type": "execute_result"
    }
   ],
   "source": [
    "data.describe()"
   ]
  },
  {
   "cell_type": "code",
   "execution_count": null,
   "metadata": {},
   "outputs": [],
   "source": []
  }
 ],
 "metadata": {
  "interpreter": {
   "hash": "bd42702498b0640961f86ea2e6d89f23caae50ab5e860e3e1107473170536751"
  },
  "kernelspec": {
   "display_name": "Python 3.8.10 64-bit ('dhdsblend2021': conda)",
   "language": "python",
   "name": "python3"
  },
  "language_info": {
   "codemirror_mode": {
    "name": "ipython",
    "version": 3
   },
   "file_extension": ".py",
   "mimetype": "text/x-python",
   "name": "python",
   "nbconvert_exporter": "python",
   "pygments_lexer": "ipython3",
   "version": "3.8.10"
  },
  "orig_nbformat": 4
 },
 "nbformat": 4,
 "nbformat_minor": 2
}
