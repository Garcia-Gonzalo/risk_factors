{
 "cells": [
  {
   "cell_type": "code",
   "execution_count": 1,
   "id": "af59d27e",
   "metadata": {},
   "outputs": [],
   "source": [
    "# gender\n",
    "    # 1 Male\n",
    "    # 2 Female\n",
    "    \n",
    "# cholesterol\n",
    "    # 1 low\n",
    "    # 2 normal\n",
    "    # high\n",
    "    \n",
    "# gluc\n",
    "    # 1 low\n",
    "    # 2 normal\n",
    "    # high\n",
    "    \n",
    "# smoke/alcohol/activo/problemas_cardiacos\n",
    "    # 0 No\n",
    "    # 1 Si"
   ]
  },
  {
   "cell_type": "code",
   "execution_count": 2,
   "id": "ea80fd6e",
   "metadata": {},
   "outputs": [],
   "source": [
    "# [\"smoke\", \"alco\", \"active\", \"cardio\"]"
   ]
  },
  {
   "cell_type": "code",
   "execution_count": 3,
   "id": "dd6ec83d",
   "metadata": {},
   "outputs": [],
   "source": [
    "# Ejemplo de usar format\n",
    "    # print(\"Shape of Original DataFrame: {}\".format(df.shape))"
   ]
  },
  {
   "cell_type": "code",
   "execution_count": 4,
   "id": "64515aa2",
   "metadata": {},
   "outputs": [
    {
     "name": "stdout",
     "output_type": "stream",
     "text": [
      "Username: LEFT\n",
      "    RIGHTRIGHTRIGHT\n"
     ]
    }
   ],
   "source": [
    "# Para crear una sangria\n",
    "line_width = 4\n",
    "print(\"Username: LEFT\")\n",
    "print(\"\".ljust(line_width) + \"RIGHT\"*3)"
   ]
  },
  {
   "cell_type": "code",
   "execution_count": 5,
   "id": "289b3117",
   "metadata": {},
   "outputs": [],
   "source": [
    "import pandas as pd\n",
    "import numpy as np\n",
    "import seaborn as sns\n",
    "import matplotlib.pyplot as plt"
   ]
  },
  {
   "cell_type": "code",
   "execution_count": 6,
   "id": "c474d33b",
   "metadata": {},
   "outputs": [
    {
     "data": {
      "text/html": [
       "<div>\n",
       "<style scoped>\n",
       "    .dataframe tbody tr th:only-of-type {\n",
       "        vertical-align: middle;\n",
       "    }\n",
       "\n",
       "    .dataframe tbody tr th {\n",
       "        vertical-align: top;\n",
       "    }\n",
       "\n",
       "    .dataframe thead th {\n",
       "        text-align: right;\n",
       "    }\n",
       "</style>\n",
       "<table border=\"1\" class=\"dataframe\">\n",
       "  <thead>\n",
       "    <tr style=\"text-align: right;\">\n",
       "      <th></th>\n",
       "      <th>Unnamed: 0</th>\n",
       "      <th>id</th>\n",
       "      <th>age</th>\n",
       "      <th>gender</th>\n",
       "      <th>height</th>\n",
       "      <th>weight</th>\n",
       "      <th>ap_hi</th>\n",
       "      <th>ap_lo</th>\n",
       "      <th>cholesterol</th>\n",
       "      <th>gluc</th>\n",
       "      <th>smoke</th>\n",
       "      <th>alco</th>\n",
       "      <th>active</th>\n",
       "      <th>cardio</th>\n",
       "      <th>AgeinYr</th>\n",
       "      <th>BMI</th>\n",
       "      <th>BMICat</th>\n",
       "      <th>AgeGroup</th>\n",
       "    </tr>\n",
       "  </thead>\n",
       "  <tbody>\n",
       "    <tr>\n",
       "      <th>0</th>\n",
       "      <td>0</td>\n",
       "      <td>0</td>\n",
       "      <td>18393</td>\n",
       "      <td>2</td>\n",
       "      <td>168</td>\n",
       "      <td>62.0</td>\n",
       "      <td>110</td>\n",
       "      <td>80</td>\n",
       "      <td>1</td>\n",
       "      <td>1</td>\n",
       "      <td>0</td>\n",
       "      <td>0</td>\n",
       "      <td>1</td>\n",
       "      <td>0</td>\n",
       "      <td>50</td>\n",
       "      <td>22.0</td>\n",
       "      <td>Normal</td>\n",
       "      <td>40-60</td>\n",
       "    </tr>\n",
       "    <tr>\n",
       "      <th>1</th>\n",
       "      <td>1</td>\n",
       "      <td>1</td>\n",
       "      <td>20228</td>\n",
       "      <td>1</td>\n",
       "      <td>156</td>\n",
       "      <td>85.0</td>\n",
       "      <td>140</td>\n",
       "      <td>90</td>\n",
       "      <td>3</td>\n",
       "      <td>1</td>\n",
       "      <td>0</td>\n",
       "      <td>0</td>\n",
       "      <td>1</td>\n",
       "      <td>1</td>\n",
       "      <td>55</td>\n",
       "      <td>34.9</td>\n",
       "      <td>Obese</td>\n",
       "      <td>40-60</td>\n",
       "    </tr>\n",
       "    <tr>\n",
       "      <th>2</th>\n",
       "      <td>2</td>\n",
       "      <td>2</td>\n",
       "      <td>18857</td>\n",
       "      <td>1</td>\n",
       "      <td>165</td>\n",
       "      <td>64.0</td>\n",
       "      <td>130</td>\n",
       "      <td>70</td>\n",
       "      <td>3</td>\n",
       "      <td>1</td>\n",
       "      <td>0</td>\n",
       "      <td>0</td>\n",
       "      <td>0</td>\n",
       "      <td>1</td>\n",
       "      <td>51</td>\n",
       "      <td>23.5</td>\n",
       "      <td>Normal</td>\n",
       "      <td>40-60</td>\n",
       "    </tr>\n",
       "    <tr>\n",
       "      <th>3</th>\n",
       "      <td>3</td>\n",
       "      <td>3</td>\n",
       "      <td>17623</td>\n",
       "      <td>2</td>\n",
       "      <td>169</td>\n",
       "      <td>82.0</td>\n",
       "      <td>150</td>\n",
       "      <td>100</td>\n",
       "      <td>1</td>\n",
       "      <td>1</td>\n",
       "      <td>0</td>\n",
       "      <td>0</td>\n",
       "      <td>1</td>\n",
       "      <td>1</td>\n",
       "      <td>48</td>\n",
       "      <td>28.7</td>\n",
       "      <td>Over Weight</td>\n",
       "      <td>40-60</td>\n",
       "    </tr>\n",
       "    <tr>\n",
       "      <th>4</th>\n",
       "      <td>4</td>\n",
       "      <td>4</td>\n",
       "      <td>17474</td>\n",
       "      <td>1</td>\n",
       "      <td>156</td>\n",
       "      <td>56.0</td>\n",
       "      <td>100</td>\n",
       "      <td>60</td>\n",
       "      <td>1</td>\n",
       "      <td>1</td>\n",
       "      <td>0</td>\n",
       "      <td>0</td>\n",
       "      <td>0</td>\n",
       "      <td>0</td>\n",
       "      <td>47</td>\n",
       "      <td>23.0</td>\n",
       "      <td>Normal</td>\n",
       "      <td>40-60</td>\n",
       "    </tr>\n",
       "  </tbody>\n",
       "</table>\n",
       "</div>"
      ],
      "text/plain": [
       "   Unnamed: 0  id    age  gender  height  weight  ap_hi  ap_lo  cholesterol  \\\n",
       "0           0   0  18393       2     168    62.0    110     80            1   \n",
       "1           1   1  20228       1     156    85.0    140     90            3   \n",
       "2           2   2  18857       1     165    64.0    130     70            3   \n",
       "3           3   3  17623       2     169    82.0    150    100            1   \n",
       "4           4   4  17474       1     156    56.0    100     60            1   \n",
       "\n",
       "   gluc  smoke  alco  active  cardio  AgeinYr   BMI       BMICat AgeGroup  \n",
       "0     1      0     0       1       0       50  22.0       Normal    40-60  \n",
       "1     1      0     0       1       1       55  34.9        Obese    40-60  \n",
       "2     1      0     0       0       1       51  23.5       Normal    40-60  \n",
       "3     1      0     0       1       1       48  28.7  Over Weight    40-60  \n",
       "4     1      0     0       0       0       47  23.0       Normal    40-60  "
      ]
     },
     "execution_count": 6,
     "metadata": {},
     "output_type": "execute_result"
    }
   ],
   "source": [
    "df = pd.read_csv(\"Health Screening Data.csv\")\n",
    "df.head()"
   ]
  },
  {
   "cell_type": "code",
   "execution_count": 7,
   "id": "9a33d21a",
   "metadata": {},
   "outputs": [
    {
     "data": {
      "text/html": [
       "<div>\n",
       "<style scoped>\n",
       "    .dataframe tbody tr th:only-of-type {\n",
       "        vertical-align: middle;\n",
       "    }\n",
       "\n",
       "    .dataframe tbody tr th {\n",
       "        vertical-align: top;\n",
       "    }\n",
       "\n",
       "    .dataframe thead th {\n",
       "        text-align: right;\n",
       "    }\n",
       "</style>\n",
       "<table border=\"1\" class=\"dataframe\">\n",
       "  <thead>\n",
       "    <tr style=\"text-align: right;\">\n",
       "      <th></th>\n",
       "      <th>Unnamed: 0</th>\n",
       "      <th>age</th>\n",
       "      <th>gender</th>\n",
       "      <th>height</th>\n",
       "      <th>weight</th>\n",
       "      <th>ap_hi</th>\n",
       "      <th>ap_lo</th>\n",
       "      <th>cholesterol</th>\n",
       "      <th>gluc</th>\n",
       "      <th>smoke</th>\n",
       "      <th>alco</th>\n",
       "      <th>active</th>\n",
       "      <th>cardio</th>\n",
       "      <th>AgeinYr</th>\n",
       "      <th>BMI</th>\n",
       "      <th>BMICat</th>\n",
       "      <th>AgeGroup</th>\n",
       "    </tr>\n",
       "    <tr>\n",
       "      <th>id</th>\n",
       "      <th></th>\n",
       "      <th></th>\n",
       "      <th></th>\n",
       "      <th></th>\n",
       "      <th></th>\n",
       "      <th></th>\n",
       "      <th></th>\n",
       "      <th></th>\n",
       "      <th></th>\n",
       "      <th></th>\n",
       "      <th></th>\n",
       "      <th></th>\n",
       "      <th></th>\n",
       "      <th></th>\n",
       "      <th></th>\n",
       "      <th></th>\n",
       "      <th></th>\n",
       "    </tr>\n",
       "  </thead>\n",
       "  <tbody>\n",
       "    <tr>\n",
       "      <th>0</th>\n",
       "      <td>0</td>\n",
       "      <td>18393</td>\n",
       "      <td>2</td>\n",
       "      <td>168</td>\n",
       "      <td>62.0</td>\n",
       "      <td>110</td>\n",
       "      <td>80</td>\n",
       "      <td>1</td>\n",
       "      <td>1</td>\n",
       "      <td>0</td>\n",
       "      <td>0</td>\n",
       "      <td>1</td>\n",
       "      <td>0</td>\n",
       "      <td>50</td>\n",
       "      <td>22.0</td>\n",
       "      <td>Normal</td>\n",
       "      <td>40-60</td>\n",
       "    </tr>\n",
       "    <tr>\n",
       "      <th>1</th>\n",
       "      <td>1</td>\n",
       "      <td>20228</td>\n",
       "      <td>1</td>\n",
       "      <td>156</td>\n",
       "      <td>85.0</td>\n",
       "      <td>140</td>\n",
       "      <td>90</td>\n",
       "      <td>3</td>\n",
       "      <td>1</td>\n",
       "      <td>0</td>\n",
       "      <td>0</td>\n",
       "      <td>1</td>\n",
       "      <td>1</td>\n",
       "      <td>55</td>\n",
       "      <td>34.9</td>\n",
       "      <td>Obese</td>\n",
       "      <td>40-60</td>\n",
       "    </tr>\n",
       "    <tr>\n",
       "      <th>2</th>\n",
       "      <td>2</td>\n",
       "      <td>18857</td>\n",
       "      <td>1</td>\n",
       "      <td>165</td>\n",
       "      <td>64.0</td>\n",
       "      <td>130</td>\n",
       "      <td>70</td>\n",
       "      <td>3</td>\n",
       "      <td>1</td>\n",
       "      <td>0</td>\n",
       "      <td>0</td>\n",
       "      <td>0</td>\n",
       "      <td>1</td>\n",
       "      <td>51</td>\n",
       "      <td>23.5</td>\n",
       "      <td>Normal</td>\n",
       "      <td>40-60</td>\n",
       "    </tr>\n",
       "    <tr>\n",
       "      <th>3</th>\n",
       "      <td>3</td>\n",
       "      <td>17623</td>\n",
       "      <td>2</td>\n",
       "      <td>169</td>\n",
       "      <td>82.0</td>\n",
       "      <td>150</td>\n",
       "      <td>100</td>\n",
       "      <td>1</td>\n",
       "      <td>1</td>\n",
       "      <td>0</td>\n",
       "      <td>0</td>\n",
       "      <td>1</td>\n",
       "      <td>1</td>\n",
       "      <td>48</td>\n",
       "      <td>28.7</td>\n",
       "      <td>Over Weight</td>\n",
       "      <td>40-60</td>\n",
       "    </tr>\n",
       "    <tr>\n",
       "      <th>4</th>\n",
       "      <td>4</td>\n",
       "      <td>17474</td>\n",
       "      <td>1</td>\n",
       "      <td>156</td>\n",
       "      <td>56.0</td>\n",
       "      <td>100</td>\n",
       "      <td>60</td>\n",
       "      <td>1</td>\n",
       "      <td>1</td>\n",
       "      <td>0</td>\n",
       "      <td>0</td>\n",
       "      <td>0</td>\n",
       "      <td>0</td>\n",
       "      <td>47</td>\n",
       "      <td>23.0</td>\n",
       "      <td>Normal</td>\n",
       "      <td>40-60</td>\n",
       "    </tr>\n",
       "  </tbody>\n",
       "</table>\n",
       "</div>"
      ],
      "text/plain": [
       "    Unnamed: 0    age  gender  height  weight  ap_hi  ap_lo  cholesterol  \\\n",
       "id                                                                         \n",
       "0            0  18393       2     168    62.0    110     80            1   \n",
       "1            1  20228       1     156    85.0    140     90            3   \n",
       "2            2  18857       1     165    64.0    130     70            3   \n",
       "3            3  17623       2     169    82.0    150    100            1   \n",
       "4            4  17474       1     156    56.0    100     60            1   \n",
       "\n",
       "    gluc  smoke  alco  active  cardio  AgeinYr   BMI       BMICat AgeGroup  \n",
       "id                                                                          \n",
       "0      1      0     0       1       0       50  22.0       Normal    40-60  \n",
       "1      1      0     0       1       1       55  34.9        Obese    40-60  \n",
       "2      1      0     0       0       1       51  23.5       Normal    40-60  \n",
       "3      1      0     0       1       1       48  28.7  Over Weight    40-60  \n",
       "4      1      0     0       0       0       47  23.0       Normal    40-60  "
      ]
     },
     "execution_count": 7,
     "metadata": {},
     "output_type": "execute_result"
    }
   ],
   "source": [
    "df.set_index(\"id\", inplace = True)\n",
    "df.head()"
   ]
  },
  {
   "cell_type": "code",
   "execution_count": 8,
   "id": "e132faa7",
   "metadata": {},
   "outputs": [
    {
     "data": {
      "text/plain": [
       "(69960, 17)"
      ]
     },
     "execution_count": 8,
     "metadata": {},
     "output_type": "execute_result"
    }
   ],
   "source": [
    "df.shape"
   ]
  },
  {
   "cell_type": "code",
   "execution_count": 9,
   "id": "0479b939",
   "metadata": {},
   "outputs": [
    {
     "name": "stdout",
     "output_type": "stream",
     "text": [
      "Prevalencia en hombres: 61.45%\n",
      "Prevalencia en mujeres: 38.55%\n"
     ]
    }
   ],
   "source": [
    "# Buscando coherencia en los datos, ya que la prevalencia de HTA es mayor en hombres\n",
    "\n",
    "mask_hta = df[\"ap_hi\"] > 140\n",
    "hipertensos = df[mask_hta]\n",
    "prevalencia = hipertensos.gender.value_counts()\n",
    "print(f\"Prevalencia en hombres: {round(prevalencia[1] / hipertensos.shape[0] * 100, 2)}%\")\n",
    "print(f\"Prevalencia en mujeres: {round(prevalencia[2] / hipertensos.shape[0] * 100, 2)}%\")"
   ]
  },
  {
   "cell_type": "code",
   "execution_count": 10,
   "id": "8a31990d",
   "metadata": {},
   "outputs": [
    {
     "data": {
      "text/plain": [
       "69960"
      ]
     },
     "execution_count": 10,
     "metadata": {},
     "output_type": "execute_result"
    }
   ],
   "source": [
    "# Corroborando que esté bien pasada la edad de días a años\n",
    "\n",
    "age = df[\"age\"] / 365\n",
    "age = age.astype(\"int\")\n",
    "edad = age == df[\"AgeinYr\"]\n",
    "edad.sum()"
   ]
  },
  {
   "cell_type": "code",
   "execution_count": 11,
   "id": "9f03e993",
   "metadata": {
    "scrolled": true
   },
   "outputs": [
    {
     "data": {
      "text/plain": [
       "count    69960.000000\n",
       "mean        52.841109\n",
       "std          6.766655\n",
       "min         29.000000\n",
       "25%         48.000000\n",
       "50%         53.000000\n",
       "75%         58.000000\n",
       "max         64.000000\n",
       "Name: AgeinYr, dtype: float64"
      ]
     },
     "execution_count": 11,
     "metadata": {},
     "output_type": "execute_result"
    }
   ],
   "source": [
    "df[\"AgeinYr\"].describe()"
   ]
  },
  {
   "cell_type": "code",
   "execution_count": 12,
   "id": "064ff6d5",
   "metadata": {},
   "outputs": [
    {
     "data": {
      "image/png": "[encoded data removed]",
      "text/plain": [
       "<Figure size 432x288 with 1 Axes>"
      ]
     },
     "metadata": {
      "needs_background": "light"
     },
     "output_type": "display_data"
    }
   ],
   "source": [
    "sns.boxplot(x = \"AgeinYr\", data = df)\n",
    "plt.show()"
   ]
  },
  {
   "cell_type": "code",
   "execution_count": 13,
   "id": "bd9d99bb",
   "metadata": {
    "scrolled": true
   },
   "outputs": [
    {
     "name": "stdout",
     "output_type": "stream",
     "text": [
      "48.0 58.0 10.0\n"
     ]
    }
   ],
   "source": [
    "# Removiendo outliers\n",
    "# https://towardsdatascience.com/ways-to-detect-and-remove-the-outliers-404d16608dba\n",
    "\n",
    "# Calculo Q1, Q3, IQR\n",
    "\n",
    "Q1 = df[\"AgeinYr\"].quantile(0.25)\n",
    "Q3 = df[\"AgeinYr\"].quantile(0.75)\n",
    "IQR = Q3 - Q1\n",
    "print(Q1, Q3, IQR)"
   ]
  },
  {
   "cell_type": "code",
   "execution_count": 14,
   "id": "53d2829f",
   "metadata": {},
   "outputs": [
    {
     "data": {
      "text/html": [
       "<div>\n",
       "<style scoped>\n",
       "    .dataframe tbody tr th:only-of-type {\n",
       "        vertical-align: middle;\n",
       "    }\n",
       "\n",
       "    .dataframe tbody tr th {\n",
       "        vertical-align: top;\n",
       "    }\n",
       "\n",
       "    .dataframe thead th {\n",
       "        text-align: right;\n",
       "    }\n",
       "</style>\n",
       "<table border=\"1\" class=\"dataframe\">\n",
       "  <thead>\n",
       "    <tr style=\"text-align: right;\">\n",
       "      <th></th>\n",
       "      <th>Unnamed: 0</th>\n",
       "      <th>age</th>\n",
       "      <th>gender</th>\n",
       "      <th>height</th>\n",
       "      <th>weight</th>\n",
       "      <th>ap_hi</th>\n",
       "      <th>ap_lo</th>\n",
       "      <th>cholesterol</th>\n",
       "      <th>gluc</th>\n",
       "      <th>smoke</th>\n",
       "      <th>alco</th>\n",
       "      <th>active</th>\n",
       "      <th>cardio</th>\n",
       "      <th>AgeinYr</th>\n",
       "      <th>BMI</th>\n",
       "      <th>BMICat</th>\n",
       "      <th>AgeGroup</th>\n",
       "    </tr>\n",
       "    <tr>\n",
       "      <th>id</th>\n",
       "      <th></th>\n",
       "      <th></th>\n",
       "      <th></th>\n",
       "      <th></th>\n",
       "      <th></th>\n",
       "      <th></th>\n",
       "      <th></th>\n",
       "      <th></th>\n",
       "      <th></th>\n",
       "      <th></th>\n",
       "      <th></th>\n",
       "      <th></th>\n",
       "      <th></th>\n",
       "      <th></th>\n",
       "      <th></th>\n",
       "      <th></th>\n",
       "      <th></th>\n",
       "    </tr>\n",
       "  </thead>\n",
       "  <tbody>\n",
       "    <tr>\n",
       "      <th>8850</th>\n",
       "      <td>6219</td>\n",
       "      <td>10878</td>\n",
       "      <td>1</td>\n",
       "      <td>175</td>\n",
       "      <td>59.0</td>\n",
       "      <td>120</td>\n",
       "      <td>80</td>\n",
       "      <td>1</td>\n",
       "      <td>1</td>\n",
       "      <td>0</td>\n",
       "      <td>0</td>\n",
       "      <td>1</td>\n",
       "      <td>0</td>\n",
       "      <td>29</td>\n",
       "      <td>19.3</td>\n",
       "      <td>Normal</td>\n",
       "      <td>20-40</td>\n",
       "    </tr>\n",
       "    <tr>\n",
       "      <th>31922</th>\n",
       "      <td>22343</td>\n",
       "      <td>10798</td>\n",
       "      <td>2</td>\n",
       "      <td>175</td>\n",
       "      <td>92.0</td>\n",
       "      <td>100</td>\n",
       "      <td>60</td>\n",
       "      <td>1</td>\n",
       "      <td>1</td>\n",
       "      <td>0</td>\n",
       "      <td>0</td>\n",
       "      <td>1</td>\n",
       "      <td>0</td>\n",
       "      <td>29</td>\n",
       "      <td>30.0</td>\n",
       "      <td>Obese</td>\n",
       "      <td>20-40</td>\n",
       "    </tr>\n",
       "    <tr>\n",
       "      <th>43842</th>\n",
       "      <td>30666</td>\n",
       "      <td>10859</td>\n",
       "      <td>1</td>\n",
       "      <td>159</td>\n",
       "      <td>59.0</td>\n",
       "      <td>120</td>\n",
       "      <td>80</td>\n",
       "      <td>1</td>\n",
       "      <td>1</td>\n",
       "      <td>0</td>\n",
       "      <td>0</td>\n",
       "      <td>1</td>\n",
       "      <td>0</td>\n",
       "      <td>29</td>\n",
       "      <td>23.3</td>\n",
       "      <td>Normal</td>\n",
       "      <td>20-40</td>\n",
       "    </tr>\n",
       "    <tr>\n",
       "      <th>79749</th>\n",
       "      <td>55905</td>\n",
       "      <td>10964</td>\n",
       "      <td>1</td>\n",
       "      <td>160</td>\n",
       "      <td>59.0</td>\n",
       "      <td>110</td>\n",
       "      <td>70</td>\n",
       "      <td>1</td>\n",
       "      <td>1</td>\n",
       "      <td>0</td>\n",
       "      <td>0</td>\n",
       "      <td>1</td>\n",
       "      <td>0</td>\n",
       "      <td>30</td>\n",
       "      <td>23.0</td>\n",
       "      <td>Normal</td>\n",
       "      <td>20-40</td>\n",
       "    </tr>\n",
       "  </tbody>\n",
       "</table>\n",
       "</div>"
      ],
      "text/plain": [
       "       Unnamed: 0    age  gender  height  weight  ap_hi  ap_lo  cholesterol  \\\n",
       "id                                                                            \n",
       "8850         6219  10878       1     175    59.0    120     80            1   \n",
       "31922       22343  10798       2     175    92.0    100     60            1   \n",
       "43842       30666  10859       1     159    59.0    120     80            1   \n",
       "79749       55905  10964       1     160    59.0    110     70            1   \n",
       "\n",
       "       gluc  smoke  alco  active  cardio  AgeinYr   BMI  BMICat AgeGroup  \n",
       "id                                                                        \n",
       "8850      1      0     0       1       0       29  19.3  Normal    20-40  \n",
       "31922     1      0     0       1       0       29  30.0   Obese    20-40  \n",
       "43842     1      0     0       1       0       29  23.3  Normal    20-40  \n",
       "79749     1      0     0       1       0       30  23.0  Normal    20-40  "
      ]
     },
     "execution_count": 14,
     "metadata": {},
     "output_type": "execute_result"
    }
   ],
   "source": [
    "# Vemos que hay 4 ptes con edad de 29/30\n",
    "\n",
    "mask_outlier_menor = df[\"AgeinYr\"] < (Q1 - 1.5 * IQR)\n",
    "mask_outlier_mayor = df[\"AgeinYr\"] > (Q3 + 1.5 * IQR)\n",
    "\n",
    "df[mask_outlier_menor | mask_outlier_mayor]"
   ]
  },
  {
   "cell_type": "code",
   "execution_count": 15,
   "id": "0c2ff65f",
   "metadata": {
    "scrolled": true
   },
   "outputs": [
    {
     "data": {
      "text/plain": [
       "(69956, 17)"
      ]
     },
     "execution_count": 15,
     "metadata": {},
     "output_type": "execute_result"
    }
   ],
   "source": [
    "# Elimino los outliers\n",
    "\n",
    "df = df[~(mask_outlier_menor | mask_outlier_mayor)]\n",
    "df.shape"
   ]
  },
  {
   "cell_type": "code",
   "execution_count": 16,
   "id": "75e60739",
   "metadata": {},
   "outputs": [
    {
     "data": {
      "image/png": "[encoded data removed]",
      "text/plain": [
       "<Figure size 360x360 with 1 Axes>"
      ]
     },
     "metadata": {},
     "output_type": "display_data"
    }
   ],
   "source": [
    "# Corroboro que los elminé\n",
    "\n",
    "sns.set_style(\"darkgrid\")\n",
    "sns.set_context(\"notebook\")\n",
    "\n",
    "ax = sns.catplot(x = \"gender\",\n",
    "                 y = \"AgeinYr\",\n",
    "                 data = df,\n",
    "                 kind = \"box\")\n",
    "\n",
    "ax.set_xticklabels([\"Masculino\", \"Femenino\"])\n",
    "plt.xlabel('Género')\n",
    "plt.ylabel('Edad (años)')\n",
    "plt.title(\"Distribución de la edad según el género\")\n",
    "\n",
    "plt.show()"
   ]
  },
  {
   "cell_type": "markdown",
   "id": "972a5e8f",
   "metadata": {},
   "source": [
    "# ACA EMPIEZO"
   ]
  },
  {
   "cell_type": "code",
   "execution_count": 17,
   "id": "f92509c5",
   "metadata": {},
   "outputs": [],
   "source": [
    "variables = [\"smoke\", \"alco\", \"active\", \"cardio\"]"
   ]
  },
  {
   "cell_type": "code",
   "execution_count": 18,
   "id": "9357d380",
   "metadata": {},
   "outputs": [
    {
     "name": "stdout",
     "output_type": "stream",
     "text": [
      "Valores únicos de cada columna: \n",
      "\n",
      "- Columna 'smoke': [0 1]\n",
      "- Columna 'alco': [0 1]\n",
      "- Columna 'active': [1 0]\n",
      "- Columna 'cardio': [0 1]\n"
     ]
    }
   ],
   "source": [
    "# Corroboro que no hay nulos\n",
    "\n",
    "print(\"Valores únicos de cada columna: \\n\")\n",
    "for i in variables:\n",
    "    print(\"- Columna '{}':\".format(i), df[i].unique())\n",
    "    \n",
    "    #print(\"Shape of Original DataFrame: {}\".format(df.shape))"
   ]
  },
  {
   "cell_type": "code",
   "execution_count": 19,
   "id": "126bcaf4",
   "metadata": {},
   "outputs": [
    {
     "name": "stdout",
     "output_type": "stream",
     "text": [
      "0    63787\n",
      "1     6169\n",
      "Name: smoke, dtype: int64\n",
      "0    66194\n",
      "1     3762\n",
      "Name: alco, dtype: int64\n",
      "1    56221\n",
      "0    13735\n",
      "Name: active, dtype: int64\n",
      "0    35002\n",
      "1    34954\n",
      "Name: cardio, dtype: int64\n"
     ]
    }
   ],
   "source": [
    "for i in variables:\n",
    "    print(df[i].value_counts())"
   ]
  },
  {
   "cell_type": "code",
   "execution_count": 20,
   "id": "9037682b",
   "metadata": {
    "scrolled": false
   },
   "outputs": [
    {
     "name": "stdout",
     "output_type": "stream",
     "text": [
      "0    0.91\n",
      "1    0.09\n",
      "Name: smoke, dtype: float64\n",
      "0    0.95\n",
      "1    0.05\n",
      "Name: alco, dtype: float64\n",
      "1    0.8\n",
      "0    0.2\n",
      "Name: active, dtype: float64\n",
      "0    0.5\n",
      "1    0.5\n",
      "Name: cardio, dtype: float64\n"
     ]
    }
   ],
   "source": [
    "for i in variables:\n",
    "    print(round(df[i].value_counts(normalize = True), 2))"
   ]
  },
  {
   "cell_type": "code",
   "execution_count": 21,
   "id": "14fc908a",
   "metadata": {
    "scrolled": true
   },
   "outputs": [
    {
     "data": {
      "image/png": "[encoded data removed]",
      "text/plain": [
       "<Figure size 432x288 with 1 Axes>"
      ]
     },
     "metadata": {},
     "output_type": "display_data"
    }
   ],
   "source": [
    "sns.set_style(\"darkgrid\")\n",
    "sns.set_context(\"notebook\")\n",
    "\n",
    "#plt.figure(figsize=(6,6))\n",
    "\n",
    "ax = sns.countplot(x = \"smoke\", data = df, hue = \"gender\")\n",
    "ax.set_xticklabels([\"No\", \"Si\"])\n",
    "\n",
    "plt.xlabel('Fumador')\n",
    "plt.ylabel('Frequency [%]')\n",
    "plt.title(\"Distribución del tabaquismo según el género\")\n",
    "plt.legend(title = 'Género', labels = [\"Masculino\", \"Femenino\"])\n",
    "\n",
    "plt.show()"
   ]
  },
  {
   "cell_type": "code",
   "execution_count": 22,
   "id": "73b5178d",
   "metadata": {},
   "outputs": [
    {
     "data": {
      "text/html": [
       "<div>\n",
       "<style scoped>\n",
       "    .dataframe tbody tr th:only-of-type {\n",
       "        vertical-align: middle;\n",
       "    }\n",
       "\n",
       "    .dataframe tbody tr th {\n",
       "        vertical-align: top;\n",
       "    }\n",
       "\n",
       "    .dataframe thead th {\n",
       "        text-align: right;\n",
       "    }\n",
       "</style>\n",
       "<table border=\"1\" class=\"dataframe\">\n",
       "  <thead>\n",
       "    <tr style=\"text-align: right;\">\n",
       "      <th></th>\n",
       "      <th>gender</th>\n",
       "      <th>smoke</th>\n",
       "      <th>normalizado</th>\n",
       "    </tr>\n",
       "  </thead>\n",
       "  <tbody>\n",
       "    <tr>\n",
       "      <th>0</th>\n",
       "      <td>1</td>\n",
       "      <td>0</td>\n",
       "      <td>98.213148</td>\n",
       "    </tr>\n",
       "    <tr>\n",
       "      <th>1</th>\n",
       "      <td>1</td>\n",
       "      <td>1</td>\n",
       "      <td>1.786852</td>\n",
       "    </tr>\n",
       "    <tr>\n",
       "      <th>2</th>\n",
       "      <td>2</td>\n",
       "      <td>0</td>\n",
       "      <td>78.100339</td>\n",
       "    </tr>\n",
       "    <tr>\n",
       "      <th>3</th>\n",
       "      <td>2</td>\n",
       "      <td>1</td>\n",
       "      <td>21.899661</td>\n",
       "    </tr>\n",
       "  </tbody>\n",
       "</table>\n",
       "</div>"
      ],
      "text/plain": [
       "   gender  smoke  normalizado\n",
       "0       1      0    98.213148\n",
       "1       1      1     1.786852\n",
       "2       2      0    78.100339\n",
       "3       2      1    21.899661"
      ]
     },
     "execution_count": 22,
     "metadata": {},
     "output_type": "execute_result"
    }
   ],
   "source": [
    "fumador_normalizado = df[\"smoke\"].groupby(df[\"gender\"]).value_counts(normalize = True).rename(\"normalizado\").reset_index()\n",
    "fumador_normalizado[\"normalizado\"] = fumador_normalizado[\"normalizado\"] * 100\n",
    "fumador_normalizado"
   ]
  },
  {
   "cell_type": "code",
   "execution_count": 23,
   "id": "6ec0061f",
   "metadata": {},
   "outputs": [
    {
     "data": {
      "image/png": "[encoded data removed]",
      "text/plain": [
       "<Figure size 406.175x360 with 1 Axes>"
      ]
     },
     "metadata": {},
     "output_type": "display_data"
    }
   ],
   "source": [
    "sns.set_style(\"darkgrid\")\n",
    "sns.set_context(\"notebook\")\n",
    "\n",
    "#plt.figure(figsize=(6,6))\n",
    "\n",
    "ax = sns.catplot(x = \"smoke\", y = \"normalizado\", data = fumador_normalizado, kind = \"bar\", hue = \"gender\", legend = True)\n",
    "ax.set_xticklabels([\"No\", \"Si\"])\n",
    "\n",
    "plt.xlabel('Fumador')\n",
    "plt.ylabel('Frequencia [%]')\n",
    "plt.title(\"Distribución del tabaquismo según el género\")\n",
    "# plt.legend(title = 'Género', labels = [\"Masculino\", \"Femenino\"])\n",
    "# 1 Male / 2 Female\n",
    "plt.show()"
   ]
  },
  {
   "cell_type": "code",
   "execution_count": 24,
   "id": "446b6070",
   "metadata": {},
   "outputs": [
    {
     "data": {
      "text/html": [
       "<div>\n",
       "<style scoped>\n",
       "    .dataframe tbody tr th:only-of-type {\n",
       "        vertical-align: middle;\n",
       "    }\n",
       "\n",
       "    .dataframe tbody tr th {\n",
       "        vertical-align: top;\n",
       "    }\n",
       "\n",
       "    .dataframe thead th {\n",
       "        text-align: right;\n",
       "    }\n",
       "</style>\n",
       "<table border=\"1\" class=\"dataframe\">\n",
       "  <thead>\n",
       "    <tr style=\"text-align: right;\">\n",
       "      <th></th>\n",
       "      <th>gender</th>\n",
       "      <th>alco</th>\n",
       "      <th>normalizado</th>\n",
       "    </tr>\n",
       "  </thead>\n",
       "  <tbody>\n",
       "    <tr>\n",
       "      <th>0</th>\n",
       "      <td>1</td>\n",
       "      <td>0</td>\n",
       "      <td>97.450493</td>\n",
       "    </tr>\n",
       "    <tr>\n",
       "      <th>1</th>\n",
       "      <td>1</td>\n",
       "      <td>1</td>\n",
       "      <td>2.549507</td>\n",
       "    </tr>\n",
       "    <tr>\n",
       "      <th>2</th>\n",
       "      <td>2</td>\n",
       "      <td>0</td>\n",
       "      <td>89.360919</td>\n",
       "    </tr>\n",
       "    <tr>\n",
       "      <th>3</th>\n",
       "      <td>2</td>\n",
       "      <td>1</td>\n",
       "      <td>10.639081</td>\n",
       "    </tr>\n",
       "  </tbody>\n",
       "</table>\n",
       "</div>"
      ],
      "text/plain": [
       "   gender  alco  normalizado\n",
       "0       1     0    97.450493\n",
       "1       1     1     2.549507\n",
       "2       2     0    89.360919\n",
       "3       2     1    10.639081"
      ]
     },
     "execution_count": 24,
     "metadata": {},
     "output_type": "execute_result"
    }
   ],
   "source": [
    "alco_normalizado = df[\"alco\"].groupby(df[\"gender\"]).value_counts(normalize = True).rename(\"normalizado\").reset_index()\n",
    "alco_normalizado[\"normalizado\"] = alco_normalizado[\"normalizado\"] * 100\n",
    "alco_normalizado"
   ]
  },
  {
   "cell_type": "code",
   "execution_count": 25,
   "id": "d48c4a4a",
   "metadata": {},
   "outputs": [
    {
     "data": {
      "image/png": "[encoded data removed]",
      "text/plain": [
       "<Figure size 406.175x360 with 1 Axes>"
      ]
     },
     "metadata": {},
     "output_type": "display_data"
    }
   ],
   "source": [
    "sns.set_style(\"darkgrid\")\n",
    "sns.set_context(\"notebook\")\n",
    "\n",
    "#plt.figure(figsize=(6,6))\n",
    "\n",
    "ax = sns.catplot(x = \"alco\", y = \"normalizado\", data = alco_normalizado, kind = \"bar\", hue = \"gender\", legend = True)\n",
    "ax.set_xticklabels([\"No\", \"Si\"])\n",
    "\n",
    "plt.xlabel('Fumador')\n",
    "plt.ylabel('Frequencia [%]')\n",
    "plt.title(\"Distribución del alcoholismo según el género\")\n",
    "# plt.legend(title = 'Género', labels = [\"Masculino\", \"Femenino\"])\n",
    "# 1 Male / 2 Female\n",
    "plt.show()"
   ]
  },
  {
   "cell_type": "code",
   "execution_count": 26,
   "id": "272049ff",
   "metadata": {},
   "outputs": [
    {
     "data": {
      "text/html": [
       "<div>\n",
       "<style scoped>\n",
       "    .dataframe tbody tr th:only-of-type {\n",
       "        vertical-align: middle;\n",
       "    }\n",
       "\n",
       "    .dataframe tbody tr th {\n",
       "        vertical-align: top;\n",
       "    }\n",
       "\n",
       "    .dataframe thead th {\n",
       "        text-align: right;\n",
       "    }\n",
       "</style>\n",
       "<table border=\"1\" class=\"dataframe\">\n",
       "  <thead>\n",
       "    <tr style=\"text-align: right;\">\n",
       "      <th></th>\n",
       "      <th>gender</th>\n",
       "      <th>active</th>\n",
       "      <th>normalizado</th>\n",
       "    </tr>\n",
       "  </thead>\n",
       "  <tbody>\n",
       "    <tr>\n",
       "      <th>0</th>\n",
       "      <td>1</td>\n",
       "      <td>1</td>\n",
       "      <td>80.197367</td>\n",
       "    </tr>\n",
       "    <tr>\n",
       "      <th>1</th>\n",
       "      <td>1</td>\n",
       "      <td>0</td>\n",
       "      <td>19.802633</td>\n",
       "    </tr>\n",
       "    <tr>\n",
       "      <th>2</th>\n",
       "      <td>2</td>\n",
       "      <td>1</td>\n",
       "      <td>80.680378</td>\n",
       "    </tr>\n",
       "    <tr>\n",
       "      <th>3</th>\n",
       "      <td>2</td>\n",
       "      <td>0</td>\n",
       "      <td>19.319622</td>\n",
       "    </tr>\n",
       "  </tbody>\n",
       "</table>\n",
       "</div>"
      ],
      "text/plain": [
       "   gender  active  normalizado\n",
       "0       1       1    80.197367\n",
       "1       1       0    19.802633\n",
       "2       2       1    80.680378\n",
       "3       2       0    19.319622"
      ]
     },
     "execution_count": 26,
     "metadata": {},
     "output_type": "execute_result"
    }
   ],
   "source": [
    "active_normalizado = df[\"active\"].groupby(df[\"gender\"]).value_counts(normalize = True).rename(\"normalizado\").reset_index()\n",
    "active_normalizado[\"normalizado\"] = active_normalizado[\"normalizado\"] * 100\n",
    "active_normalizado"
   ]
  },
  {
   "cell_type": "code",
   "execution_count": 27,
   "id": "6b80bd76",
   "metadata": {},
   "outputs": [
    {
     "data": {
      "image/png": "[encoded data removed]",
      "text/plain": [
       "<Figure size 432x288 with 1 Axes>"
      ]
     },
     "metadata": {},
     "output_type": "display_data"
    }
   ],
   "source": [
    "sns.set_style(\"darkgrid\")\n",
    "sns.set_context(\"notebook\")\n",
    "\n",
    "#plt.figure(figsize=(6,6))\n",
    "\n",
    "ax = sns.barplot(x = \"active\", y = \"normalizado\", data = active_normalizado, hue = \"gender\")\n",
    "ax.set_xticklabels([\"No\", \"Si\"])\n",
    "\n",
    "plt.xlabel('Fumador')\n",
    "plt.ylabel('Frequencia [%]')\n",
    "plt.title(\"Distribución de la actividad física según el género\")\n",
    "ax.set_ylim([0, 100])\n",
    "#plt.legend(title = 'Género', labels = [\"Masculino\", \"Femenino\"])\n",
    "# 1 Male / 2 Female\n",
    "plt.show()"
   ]
  },
  {
   "cell_type": "code",
   "execution_count": 28,
   "id": "33f20d61",
   "metadata": {},
   "outputs": [
    {
     "data": {
      "text/html": [
       "<div>\n",
       "<style scoped>\n",
       "    .dataframe tbody tr th:only-of-type {\n",
       "        vertical-align: middle;\n",
       "    }\n",
       "\n",
       "    .dataframe tbody tr th {\n",
       "        vertical-align: top;\n",
       "    }\n",
       "\n",
       "    .dataframe thead th {\n",
       "        text-align: right;\n",
       "    }\n",
       "</style>\n",
       "<table border=\"1\" class=\"dataframe\">\n",
       "  <thead>\n",
       "    <tr style=\"text-align: right;\">\n",
       "      <th></th>\n",
       "      <th>gender</th>\n",
       "      <th>cardio</th>\n",
       "      <th>normalizado</th>\n",
       "    </tr>\n",
       "  </thead>\n",
       "  <tbody>\n",
       "    <tr>\n",
       "      <th>0</th>\n",
       "      <td>1</td>\n",
       "      <td>0</td>\n",
       "      <td>50.330777</td>\n",
       "    </tr>\n",
       "    <tr>\n",
       "      <th>1</th>\n",
       "      <td>1</td>\n",
       "      <td>1</td>\n",
       "      <td>49.669223</td>\n",
       "    </tr>\n",
       "    <tr>\n",
       "      <th>2</th>\n",
       "      <td>2</td>\n",
       "      <td>1</td>\n",
       "      <td>50.517234</td>\n",
       "    </tr>\n",
       "    <tr>\n",
       "      <th>3</th>\n",
       "      <td>2</td>\n",
       "      <td>0</td>\n",
       "      <td>49.482766</td>\n",
       "    </tr>\n",
       "  </tbody>\n",
       "</table>\n",
       "</div>"
      ],
      "text/plain": [
       "   gender  cardio  normalizado\n",
       "0       1       0    50.330777\n",
       "1       1       1    49.669223\n",
       "2       2       1    50.517234\n",
       "3       2       0    49.482766"
      ]
     },
     "execution_count": 28,
     "metadata": {},
     "output_type": "execute_result"
    }
   ],
   "source": [
    "cardio_normalizado = df[\"cardio\"].groupby(df[\"gender\"]).value_counts(normalize = True).rename(\"normalizado\").reset_index()\n",
    "cardio_normalizado[\"normalizado\"] = cardio_normalizado[\"normalizado\"] * 100\n",
    "cardio_normalizado"
   ]
  },
  {
   "cell_type": "code",
   "execution_count": 29,
   "id": "d57ca9c9",
   "metadata": {},
   "outputs": [
    {
     "data": {
      "image/png": "[encoded data removed]",
      "text/plain": [
       "<Figure size 432x288 with 1 Axes>"
      ]
     },
     "metadata": {},
     "output_type": "display_data"
    }
   ],
   "source": [
    "sns.set_style(\"darkgrid\")\n",
    "sns.set_context(\"notebook\")\n",
    "\n",
    "#plt.figure(figsize=(6,6))\n",
    "\n",
    "ax = sns.barplot(x = \"cardio\", y = \"normalizado\", data = cardio_normalizado, hue = \"gender\")\n",
    "ax.set_xticklabels([\"No\", \"Si\"])\n",
    "\n",
    "plt.xlabel('Fumador')\n",
    "plt.ylabel('Frequencia [%]')\n",
    "plt.title(\"Distribución de los antecedentes cardiológicos según el género\")\n",
    "ax.set_ylim([0, 100])\n",
    "# plt.legend(title = 'Género', labels = [\"Masculino\", \"Femenino\"])\n",
    "# 1 Male / 2 Female\n",
    "plt.show()"
   ]
  },
  {
   "cell_type": "code",
   "execution_count": 30,
   "id": "f35323f4",
   "metadata": {},
   "outputs": [
    {
     "ename": "NameError",
     "evalue": "name 'AgeinYr' is not defined",
     "output_type": "error",
     "traceback": [
      "\u001b[1;31m---------------------------------------------------------------------------\u001b[0m",
      "\u001b[1;31mNameError\u001b[0m                                 Traceback (most recent call last)",
      "\u001b[1;32m<ipython-input-30-75362969e381>\u001b[0m in \u001b[0;36m<module>\u001b[1;34m\u001b[0m\n\u001b[1;32m----> 1\u001b[1;33m \u001b[0mAgeinYr\u001b[0m\u001b[1;33m\u001b[0m\u001b[1;33m\u001b[0m\u001b[0m\n\u001b[0m",
      "\u001b[1;31mNameError\u001b[0m: name 'AgeinYr' is not defined"
     ]
    }
   ],
   "source": [
    "AgeinYr"
   ]
  },
  {
   "cell_type": "code",
   "execution_count": null,
   "id": "df469bdc",
   "metadata": {},
   "outputs": [],
   "source": []
  },
  {
   "cell_type": "code",
   "execution_count": null,
   "id": "b6f3a523",
   "metadata": {},
   "outputs": [],
   "source": []
  }
 ],
 "metadata": {
  "kernelspec": {
   "display_name": "Python 3",
   "language": "python",
   "name": "python3"
  }
 },
 "nbformat": 4,
 "nbformat_minor": 5
}
