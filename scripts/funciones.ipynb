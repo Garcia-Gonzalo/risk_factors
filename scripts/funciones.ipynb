{
 "cells": [
  {
   "cell_type": "markdown",
   "metadata": {},
   "source": [
    "### Funciones de limpieza"
   ]
  },
  {
   "cell_type": "markdown",
   "metadata": {},
   "source": [
    "#### Funciones de limpieza de la presión arterial"
   ]
  },
  {
   "cell_type": "code",
   "execution_count": null,
   "metadata": {},
   "outputs": [],
   "source": [
    "def correct_TA(row, value_ranges,step):\n",
    "    \"\"\"\n",
    "        Recibe un valor y un rango, corrige el valor en una forma recursiva con diferentes estrategias.\n",
    "        Si el valor corregido no se encuentra en el rango devuelve nan\n",
    "    \"\"\"\n",
    "    if step == 1: row = abs(row)\n",
    "    elif step == 2: row = row*10\n",
    "    elif step == 3: row = row/100\n",
    "    if (row >= value_ranges[0] and row <= value_ranges[1]):\n",
    "       return row\n",
    "    elif step==4:\n",
    "        return 999\n",
    "    else: \n",
    "        return correct_TA(row,value_ranges, step+1)"
   ]
  },
  {
   "cell_type": "code",
   "execution_count": null,
   "metadata": {},
   "outputs": [],
   "source": [
    "def complete_TA(row):\n",
    "    \"\"\"\n",
    "        Completa el valor de TAS o TAD con un delta de 40 en relación con el otro parámetro.\n",
    "        Si no lo puede calcular devuelve nan.\n",
    "    \"\"\"\n",
    "    if row['TAS']==999 or row['TAD']==999:  # si TAD o TAD  no tienen datos\n",
    "        if row['TAS']==999 and row['TAD']==999:  # Si ambos estan sin datos completa con nan\n",
    "            import numpy as np\n",
    "            row['TAS'] = np.NaN\n",
    "            row['TAD'] = np.NaN\n",
    "        else:\n",
    "            if row['TAS']==999:         # Si TAS sin datos \n",
    "                row['TAS'] = row['TAD']+40\n",
    "            else:\n",
    "                row['TAD'] = row['TAS']-40  # si TAD sin datos\n",
    "                if row['TAD'] >= 120:\n",
    "                    row['TAD'] = 120\n",
    "    return row"
   ]
  },
  {
   "cell_type": "code",
   "execution_count": null,
   "metadata": {},
   "outputs": [],
   "source": [
    "def control_TA(row):\n",
    "    \"\"\"\n",
    "        Chequea que la TAS sea mayor que la TAD, si no es asi reemplaza la TAD por TAS-40\n",
    "    \"\"\"\n",
    "    if not (row['TAS'] > row['TAD']):\n",
    "        row['TAD'] = row['TAS'] -40\n",
    "    return row\n",
    "        "
   ]
  },
  {
   "cell_type": "code",
   "execution_count": null,
   "metadata": {},
   "outputs": [],
   "source": []
  }
 ],
 "metadata": {
  "language_info": {
   "name": "python"
  },
  "orig_nbformat": 4
 },
 "nbformat": 4,
 "nbformat_minor": 2
}
