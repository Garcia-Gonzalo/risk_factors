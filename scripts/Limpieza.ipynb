{
 "cells": [
  {
   "cell_type": "code",
   "execution_count": 1,
   "metadata": {},
   "outputs": [],
   "source": [
    "import pandas as pd\n",
    "import numpy as np\n",
    "import matplotlib.pyplot as plt\n",
    "import seaborn as sns\n",
    "\n",
    "# Se cargan las funciones desde la otra notebook\n",
    "%run \"funciones.ipynb\""
   ]
  },
  {
   "cell_type": "code",
   "execution_count": 2,
   "metadata": {},
   "outputs": [],
   "source": [
    "data = pd.read_csv('../data/Health Screening Data.csv', index_col= None)"
   ]
  },
  {
   "cell_type": "markdown",
   "metadata": {},
   "source": [
    "**Introducción al dataframe**"
   ]
  },
  {
   "cell_type": "code",
   "execution_count": 3,
   "metadata": {},
   "outputs": [
    {
     "data": {
      "text/html": [
       "<div>\n",
       "<style scoped>\n",
       "    .dataframe tbody tr th:only-of-type {\n",
       "        vertical-align: middle;\n",
       "    }\n",
       "\n",
       "    .dataframe tbody tr th {\n",
       "        vertical-align: top;\n",
       "    }\n",
       "\n",
       "    .dataframe thead th {\n",
       "        text-align: right;\n",
       "    }\n",
       "</style>\n",
       "<table border=\"1\" class=\"dataframe\">\n",
       "  <thead>\n",
       "    <tr style=\"text-align: right;\">\n",
       "      <th></th>\n",
       "      <th>Unnamed: 0</th>\n",
       "      <th>id</th>\n",
       "      <th>age</th>\n",
       "      <th>gender</th>\n",
       "      <th>height</th>\n",
       "      <th>weight</th>\n",
       "      <th>ap_hi</th>\n",
       "      <th>ap_lo</th>\n",
       "      <th>cholesterol</th>\n",
       "      <th>gluc</th>\n",
       "      <th>smoke</th>\n",
       "      <th>alco</th>\n",
       "      <th>active</th>\n",
       "      <th>cardio</th>\n",
       "      <th>AgeinYr</th>\n",
       "      <th>BMI</th>\n",
       "      <th>BMICat</th>\n",
       "      <th>AgeGroup</th>\n",
       "    </tr>\n",
       "  </thead>\n",
       "  <tbody>\n",
       "    <tr>\n",
       "      <th>0</th>\n",
       "      <td>0</td>\n",
       "      <td>0</td>\n",
       "      <td>18393</td>\n",
       "      <td>2</td>\n",
       "      <td>168</td>\n",
       "      <td>62.0</td>\n",
       "      <td>110</td>\n",
       "      <td>80</td>\n",
       "      <td>1</td>\n",
       "      <td>1</td>\n",
       "      <td>0</td>\n",
       "      <td>0</td>\n",
       "      <td>1</td>\n",
       "      <td>0</td>\n",
       "      <td>50</td>\n",
       "      <td>22.0</td>\n",
       "      <td>Normal</td>\n",
       "      <td>40-60</td>\n",
       "    </tr>\n",
       "    <tr>\n",
       "      <th>1</th>\n",
       "      <td>1</td>\n",
       "      <td>1</td>\n",
       "      <td>20228</td>\n",
       "      <td>1</td>\n",
       "      <td>156</td>\n",
       "      <td>85.0</td>\n",
       "      <td>140</td>\n",
       "      <td>90</td>\n",
       "      <td>3</td>\n",
       "      <td>1</td>\n",
       "      <td>0</td>\n",
       "      <td>0</td>\n",
       "      <td>1</td>\n",
       "      <td>1</td>\n",
       "      <td>55</td>\n",
       "      <td>34.9</td>\n",
       "      <td>Obese</td>\n",
       "      <td>40-60</td>\n",
       "    </tr>\n",
       "    <tr>\n",
       "      <th>2</th>\n",
       "      <td>2</td>\n",
       "      <td>2</td>\n",
       "      <td>18857</td>\n",
       "      <td>1</td>\n",
       "      <td>165</td>\n",
       "      <td>64.0</td>\n",
       "      <td>130</td>\n",
       "      <td>70</td>\n",
       "      <td>3</td>\n",
       "      <td>1</td>\n",
       "      <td>0</td>\n",
       "      <td>0</td>\n",
       "      <td>0</td>\n",
       "      <td>1</td>\n",
       "      <td>51</td>\n",
       "      <td>23.5</td>\n",
       "      <td>Normal</td>\n",
       "      <td>40-60</td>\n",
       "    </tr>\n",
       "    <tr>\n",
       "      <th>3</th>\n",
       "      <td>3</td>\n",
       "      <td>3</td>\n",
       "      <td>17623</td>\n",
       "      <td>2</td>\n",
       "      <td>169</td>\n",
       "      <td>82.0</td>\n",
       "      <td>150</td>\n",
       "      <td>100</td>\n",
       "      <td>1</td>\n",
       "      <td>1</td>\n",
       "      <td>0</td>\n",
       "      <td>0</td>\n",
       "      <td>1</td>\n",
       "      <td>1</td>\n",
       "      <td>48</td>\n",
       "      <td>28.7</td>\n",
       "      <td>Over Weight</td>\n",
       "      <td>40-60</td>\n",
       "    </tr>\n",
       "    <tr>\n",
       "      <th>4</th>\n",
       "      <td>4</td>\n",
       "      <td>4</td>\n",
       "      <td>17474</td>\n",
       "      <td>1</td>\n",
       "      <td>156</td>\n",
       "      <td>56.0</td>\n",
       "      <td>100</td>\n",
       "      <td>60</td>\n",
       "      <td>1</td>\n",
       "      <td>1</td>\n",
       "      <td>0</td>\n",
       "      <td>0</td>\n",
       "      <td>0</td>\n",
       "      <td>0</td>\n",
       "      <td>47</td>\n",
       "      <td>23.0</td>\n",
       "      <td>Normal</td>\n",
       "      <td>40-60</td>\n",
       "    </tr>\n",
       "  </tbody>\n",
       "</table>\n",
       "</div>"
      ],
      "text/plain": [
       "   Unnamed: 0  id    age  gender  height  weight  ap_hi  ap_lo  cholesterol  \\\n",
       "0           0   0  18393       2     168    62.0    110     80            1   \n",
       "1           1   1  20228       1     156    85.0    140     90            3   \n",
       "2           2   2  18857       1     165    64.0    130     70            3   \n",
       "3           3   3  17623       2     169    82.0    150    100            1   \n",
       "4           4   4  17474       1     156    56.0    100     60            1   \n",
       "\n",
       "   gluc  smoke  alco  active  cardio  AgeinYr   BMI       BMICat AgeGroup  \n",
       "0     1      0     0       1       0       50  22.0       Normal    40-60  \n",
       "1     1      0     0       1       1       55  34.9        Obese    40-60  \n",
       "2     1      0     0       0       1       51  23.5       Normal    40-60  \n",
       "3     1      0     0       1       1       48  28.7  Over Weight    40-60  \n",
       "4     1      0     0       0       0       47  23.0       Normal    40-60  "
      ]
     },
     "execution_count": 3,
     "metadata": {},
     "output_type": "execute_result"
    }
   ],
   "source": [
    "data.head()"
   ]
  },
  {
   "cell_type": "code",
   "execution_count": 4,
   "metadata": {},
   "outputs": [
    {
     "data": {
      "text/plain": [
       "Index(['Unnamed: 0', 'id', 'age', 'gender', 'height', 'weight', 'ap_hi',\n",
       "       'ap_lo', 'cholesterol', 'gluc', 'smoke', 'alco', 'active', 'cardio',\n",
       "       'AgeinYr', 'BMI', 'BMICat', 'AgeGroup'],\n",
       "      dtype='object')"
      ]
     },
     "execution_count": 4,
     "metadata": {},
     "output_type": "execute_result"
    }
   ],
   "source": [
    "data.columns"
   ]
  },
  {
   "cell_type": "code",
   "execution_count": 5,
   "metadata": {},
   "outputs": [
    {
     "data": {
      "text/plain": [
       "(69960, 18)"
      ]
     },
     "execution_count": 5,
     "metadata": {},
     "output_type": "execute_result"
    }
   ],
   "source": [
    "data.shape"
   ]
  },
  {
   "cell_type": "code",
   "execution_count": 6,
   "metadata": {},
   "outputs": [],
   "source": [
    "data = data.drop(columns=['Unnamed: 0', 'id',])"
   ]
  },
  {
   "cell_type": "code",
   "execution_count": 7,
   "metadata": {},
   "outputs": [
    {
     "name": "stdout",
     "output_type": "stream",
     "text": [
      "<class 'pandas.core.frame.DataFrame'>\n",
      "RangeIndex: 69960 entries, 0 to 69959\n",
      "Data columns (total 16 columns):\n",
      " #   Column       Non-Null Count  Dtype  \n",
      "---  ------       --------------  -----  \n",
      " 0   age          69960 non-null  int64  \n",
      " 1   gender       69960 non-null  int64  \n",
      " 2   height       69960 non-null  int64  \n",
      " 3   weight       69960 non-null  float64\n",
      " 4   ap_hi        69960 non-null  int64  \n",
      " 5   ap_lo        69960 non-null  int64  \n",
      " 6   cholesterol  69960 non-null  int64  \n",
      " 7   gluc         69960 non-null  int64  \n",
      " 8   smoke        69960 non-null  int64  \n",
      " 9   alco         69960 non-null  int64  \n",
      " 10  active       69960 non-null  int64  \n",
      " 11  cardio       69960 non-null  int64  \n",
      " 12  AgeinYr      69960 non-null  int64  \n",
      " 13  BMI          69960 non-null  float64\n",
      " 14  BMICat       69960 non-null  object \n",
      " 15  AgeGroup     69960 non-null  object \n",
      "dtypes: float64(2), int64(12), object(2)\n",
      "memory usage: 8.5+ MB\n"
     ]
    }
   ],
   "source": [
    "data.info()"
   ]
  },
  {
   "cell_type": "markdown",
   "metadata": {},
   "source": [
    "**Exploramos Feature \"age\"**"
   ]
  },
  {
   "cell_type": "code",
   "execution_count": 8,
   "metadata": {},
   "outputs": [
    {
     "data": {
      "text/plain": [
       "0    18393\n",
       "1    20228\n",
       "2    18857\n",
       "3    17623\n",
       "4    17474\n",
       "Name: age, dtype: int64"
      ]
     },
     "execution_count": 8,
     "metadata": {},
     "output_type": "execute_result"
    }
   ],
   "source": [
    "data[\"age\"].head()"
   ]
  },
  {
   "cell_type": "markdown",
   "metadata": {},
   "source": [
    " Feature **\"age\"** divide edad en días, no pareciera muy útil para el proyecto, se propone dropear."
   ]
  },
  {
   "cell_type": "code",
   "execution_count": 9,
   "metadata": {},
   "outputs": [],
   "source": [
    "data = data.drop(columns=['age'])"
   ]
  },
  {
   "cell_type": "markdown",
   "metadata": {},
   "source": [
    "**Exploramos Feature \"AgeGroup\"**"
   ]
  },
  {
   "cell_type": "code",
   "execution_count": 10,
   "metadata": {},
   "outputs": [
    {
     "data": {
      "text/plain": [
       "40-60    56712\n",
       ">60       9844\n",
       "20-40     3404\n",
       "Name: AgeGroup, dtype: int64"
      ]
     },
     "execution_count": 10,
     "metadata": {},
     "output_type": "execute_result"
    }
   ],
   "source": [
    "data[\"AgeGroup\"].value_counts()"
   ]
  },
  {
   "cell_type": "code",
   "execution_count": 11,
   "metadata": {},
   "outputs": [
    {
     "data": {
      "image/png": "[encoded data removed]",
      "text/plain": [
       "<Figure size 432x288 with 1 Axes>"
      ]
     },
     "metadata": {
      "needs_background": "light"
     },
     "output_type": "display_data"
    }
   ],
   "source": [
    "sns.countplot(x = \"AgeGroup\", data = data, hue = \"gender\", palette = \"hls\")\n",
    "\n",
    "plt.legend([\"Femenino\", \"Masculino\"])\n",
    "plt.xlabel(\"Edad\")\n",
    "plt.title(\"Distribución de la edad en categorías\")\n",
    "\n",
    "plt.show()"
   ]
  },
  {
   "cell_type": "markdown",
   "metadata": {},
   "source": [
    "Feature **\"AgeGroup\"** divide la edad en 3 categorias muy amplias y desbalanceadas. Se propone dropear y utilizar otras categorías a partir de Feature **\"AgeinYR\"**"
   ]
  },
  {
   "cell_type": "markdown",
   "metadata": {},
   "source": [
    "**Exploramos Feature \"AgeinYr\"** "
   ]
  },
  {
   "cell_type": "code",
   "execution_count": 12,
   "metadata": {},
   "outputs": [
    {
     "data": {
      "image/png": "[encoded data removed]",
      "text/plain": [
       "<Figure size 432x288 with 1 Axes>"
      ]
     },
     "metadata": {
      "needs_background": "light"
     },
     "output_type": "display_data"
    },
    {
     "name": "stdout",
     "output_type": "stream",
     "text": [
      "Descripcion de la columna Ageinyr \n",
      " count    69960.000000\n",
      "mean        52.841109\n",
      "std          6.766655\n",
      "min         29.000000\n",
      "25%         48.000000\n",
      "50%         53.000000\n",
      "75%         58.000000\n",
      "max         64.000000\n",
      "Name: AgeinYr, dtype: float64\n"
     ]
    }
   ],
   "source": [
    "exploracion(data, \"AgeinYr\")"
   ]
  },
  {
   "cell_type": "code",
   "execution_count": 15,
   "metadata": {},
   "outputs": [
    {
     "data": {
      "image/png": "[encoded data removed]",
      "text/plain": [
       "<Figure size 360x360 with 1 Axes>"
      ]
     },
     "metadata": {
      "needs_background": "light"
     },
     "output_type": "display_data"
    }
   ],
   "source": [
    "sns.displot(data.AgeinYr, bins = 10, palette = 'Set2')\n",
    "plt.title(\"Histograma de la distrución de los datos por rango etario\\n\")\n",
    "plt.show()"
   ]
  },
  {
   "cell_type": "markdown",
   "metadata": {},
   "source": [
    "Se propone conservar feature **\"AgeinYR\"** pero también discretizar en categorias"
   ]
  },
  {
   "cell_type": "code",
   "execution_count": 16,
   "metadata": {},
   "outputs": [],
   "source": [
    "#Discretizacion de variables Age\n",
    "\n",
    "bins = [0, 30, 40, 50, 60, 70]\n",
    "AgeCat = pd.cut(data.AgeinYr, bins, right = False)\n",
    "\n",
    "data['AgeCat'] = AgeCat"
   ]
  },
  {
   "cell_type": "code",
   "execution_count": 17,
   "metadata": {},
   "outputs": [
    {
     "data": {
      "text/plain": [
       "[0, 30)         3\n",
       "[30, 40)     1780\n",
       "[60, 70)    13043\n",
       "[40, 50)    19611\n",
       "[50, 60)    35523\n",
       "Name: AgeCat, dtype: int64"
      ]
     },
     "execution_count": 17,
     "metadata": {},
     "output_type": "execute_result"
    }
   ],
   "source": [
    "data['AgeCat'].value_counts().sort_values()"
   ]
  },
  {
   "cell_type": "markdown",
   "metadata": {},
   "source": [
    "**Exploramos Feature \"height\"** "
   ]
  },
  {
   "cell_type": "code",
   "execution_count": 18,
   "metadata": {},
   "outputs": [
    {
     "data": {
      "image/png": "[encoded data removed]",
      "text/plain": [
       "<Figure size 432x288 with 1 Axes>"
      ]
     },
     "metadata": {
      "needs_background": "light"
     },
     "output_type": "display_data"
    },
    {
     "name": "stdout",
     "output_type": "stream",
     "text": [
      "Descripcion de la columna Height \n",
      " count    69960.000000\n",
      "mean       164.359105\n",
      "std          8.210541\n",
      "min         55.000000\n",
      "25%        159.000000\n",
      "50%        165.000000\n",
      "75%        170.000000\n",
      "max        250.000000\n",
      "Name: height, dtype: float64\n"
     ]
    }
   ],
   "source": [
    "exploracion(data, \"height\")"
   ]
  },
  {
   "cell_type": "code",
   "execution_count": 19,
   "metadata": {},
   "outputs": [
    {
     "name": "stdout",
     "output_type": "stream",
     "text": [
      "Shape del dataframe inicial: (69960, 16)\n",
      "Shape del dataframe luego de eliminar outliers: (68421, 16)\n"
     ]
    }
   ],
   "source": [
    "eliminar_outliers(data, \"height\", 150, 200)"
   ]
  },
  {
   "cell_type": "code",
   "execution_count": 20,
   "metadata": {},
   "outputs": [
    {
     "data": {
      "image/png": "[encoded data removed]",
      "text/plain": [
       "<Figure size 432x288 with 1 Axes>"
      ]
     },
     "metadata": {
      "needs_background": "light"
     },
     "output_type": "display_data"
    },
    {
     "name": "stdout",
     "output_type": "stream",
     "text": [
      "Descripcion de la columna Height \n",
      " count    68421.000000\n",
      "mean       164.824294\n",
      "std          7.457162\n",
      "min        150.000000\n",
      "25%        160.000000\n",
      "50%        165.000000\n",
      "75%        170.000000\n",
      "max        200.000000\n",
      "Name: height, dtype: float64\n"
     ]
    }
   ],
   "source": [
    "exploracion(data, \"height\")"
   ]
  },
  {
   "cell_type": "code",
   "execution_count": 21,
   "metadata": {},
   "outputs": [
    {
     "data": {
      "image/png": "[encoded data removed]",
      "text/plain": [
       "<Figure size 432x288 with 1 Axes>"
      ]
     },
     "metadata": {
      "needs_background": "light"
     },
     "output_type": "display_data"
    }
   ],
   "source": [
    "sns.histplot(data.height, kde = True, bins = 10)\n",
    "plt.xlabel(\"Altura\")\n",
    "plt.title(\"Histograma de la variable altura\")\n",
    "plt.show()"
   ]
  },
  {
   "cell_type": "code",
   "execution_count": 23,
   "metadata": {},
   "outputs": [
    {
     "data": {
      "image/png": "[encoded data removed]",
      "text/plain": [
       "<Figure size 432x288 with 1 Axes>"
      ]
     },
     "metadata": {},
     "output_type": "display_data"
    }
   ],
   "source": [
    "sns.set_style(\"whitegrid\")\n",
    "sns.set_context(\"notebook\")\n",
    "\n",
    "data_male = data[data.gender == 1]\n",
    "data_male_height= data_male.height\n",
    "\n",
    "\n",
    "sns.histplot(data_male_height,  kde=False, bins = 10, label='male', stat = \"probability\")\n",
    "\n",
    "data_fem = data[data.gender == 2]\n",
    "data_fem_height = data_fem.height\n",
    "sns.histplot(data_fem_height,  kde=False, label='female', bins = 10, color = 'orange', stat = \"probability\")\n",
    "\n",
    "plt.xlabel(\"height\")\n",
    "\n",
    "# Add title\n",
    "\n",
    "plt.xlabel(\"Altura\")\n",
    "plt.ylabel(\"Proporción\")\n",
    "plt.title(\"Distribución de la variable altura según el género\")\n",
    "plt.legend([\"Femenino\", \"Masculino\"])\n",
    "plt.ylim((0, 0.4))\n",
    "\n",
    "plt.show()"
   ]
  },
  {
   "cell_type": "markdown",
   "metadata": {},
   "source": [
    "El **histograma** sirve para identificar que **1 = female y 2 = male en feature 'gender'**"
   ]
  },
  {
   "cell_type": "code",
   "execution_count": 24,
   "metadata": {},
   "outputs": [
    {
     "name": "stdout",
     "output_type": "stream",
     "text": [
      "Proporción de género femenino: 64.37%\n",
      "Proporción de género masculino: 35.63%\n"
     ]
    }
   ],
   "source": [
    "data.gender.value_counts()\n",
    "proporcion_gender = (data.gender.value_counts() / data.shape[0]) * 100  #por height deduzco que '1' = female, '2' = male\n",
    "print(\"Proporción de género femenino: {:.2f}%\".format(proporcion_gender[1]))\n",
    "print(\"Proporción de género masculino: {:.2f}%\".format(proporcion_gender[2]))"
   ]
  },
  {
   "cell_type": "code",
   "execution_count": 31,
   "metadata": {},
   "outputs": [
    {
     "data": {
      "image/png": "[encoded data removed]",
      "text/plain": [
       "<Figure size 432x288 with 1 Axes>"
      ]
     },
     "metadata": {},
     "output_type": "display_data"
    }
   ],
   "source": [
    "ax= sns.countplot(x=\"gender\", data=data, palette=\"hls\")\n",
    "ax.set_xticklabels([\"Femenino\", \"Masculino\"])\n",
    "plt.title(\"Cantidad de observaciones según el género\")\n",
    "plt.xlabel(\"Género\")\n",
    "\n",
    "plt.show()"
   ]
  },
  {
   "cell_type": "markdown",
   "metadata": {},
   "source": [
    "**Exploramos Feature \"weight\"** "
   ]
  },
  {
   "cell_type": "code",
   "execution_count": 32,
   "metadata": {},
   "outputs": [
    {
     "data": {
      "image/png": "[encoded data removed]",
      "text/plain": [
       "<Figure size 432x288 with 1 Axes>"
      ]
     },
     "metadata": {},
     "output_type": "display_data"
    },
    {
     "name": "stdout",
     "output_type": "stream",
     "text": [
      "Descripcion de la columna Weight \n",
      " count    68421.000000\n",
      "mean        74.403725\n",
      "std         14.286223\n",
      "min         10.000000\n",
      "25%         65.000000\n",
      "50%         72.000000\n",
      "75%         82.000000\n",
      "max        200.000000\n",
      "Name: weight, dtype: float64\n"
     ]
    }
   ],
   "source": [
    "exploracion(data, \"weight\")"
   ]
  },
  {
   "cell_type": "markdown",
   "metadata": {},
   "source": [
    "Se considera que las personas con un peso menor a 50 como el resultado de [altura - 100]"
   ]
  },
  {
   "cell_type": "code",
   "execution_count": 33,
   "metadata": {},
   "outputs": [],
   "source": [
    "lower_range = 50\n",
    "upper_range = 200"
   ]
  },
  {
   "cell_type": "code",
   "execution_count": 34,
   "metadata": {},
   "outputs": [],
   "source": [
    "data['new_weight'] = data.apply(lambda x: x['height'] - 100 if x['weight'] < 50 else x['weight'], axis = 1)"
   ]
  },
  {
   "cell_type": "code",
   "execution_count": 35,
   "metadata": {},
   "outputs": [
    {
     "data": {
      "text/plain": [
       "count    68421.000000\n",
       "mean        74.537792\n",
       "std         14.073542\n",
       "min         50.000000\n",
       "25%         65.000000\n",
       "50%         72.000000\n",
       "75%         82.000000\n",
       "max        200.000000\n",
       "Name: new_weight, dtype: float64"
      ]
     },
     "execution_count": 35,
     "metadata": {},
     "output_type": "execute_result"
    }
   ],
   "source": [
    "data['new_weight'].describe()"
   ]
  },
  {
   "cell_type": "code",
   "execution_count": 36,
   "metadata": {},
   "outputs": [],
   "source": [
    "data['weight'] = data['new_weight']"
   ]
  },
  {
   "cell_type": "code",
   "execution_count": 37,
   "metadata": {
    "scrolled": false
   },
   "outputs": [
    {
     "data": {
      "image/png": "[encoded data removed]",
      "text/plain": [
       "<Figure size 432x288 with 1 Axes>"
      ]
     },
     "metadata": {},
     "output_type": "display_data"
    },
    {
     "name": "stdout",
     "output_type": "stream",
     "text": [
      "Descripcion de la columna Weight \n",
      " count    68421.000000\n",
      "mean        74.537792\n",
      "std         14.073542\n",
      "min         50.000000\n",
      "25%         65.000000\n",
      "50%         72.000000\n",
      "75%         82.000000\n",
      "max        200.000000\n",
      "Name: weight, dtype: float64\n"
     ]
    }
   ],
   "source": [
    "exploracion(data, \"weight\")"
   ]
  },
  {
   "cell_type": "code",
   "execution_count": 38,
   "metadata": {},
   "outputs": [
    {
     "data": {
      "image/png": "[encoded data removed]",
      "text/plain": [
       "<Figure size 432x288 with 1 Axes>"
      ]
     },
     "metadata": {},
     "output_type": "display_data"
    }
   ],
   "source": [
    "sns.histplot(data.height, kde = True, bins = 10)\n",
    "plt.title(\"Histograma de la variable altura\")\n",
    "plt.xlabel(\"Peso\")\n",
    "\n",
    "plt.show()"
   ]
  },
  {
   "cell_type": "code",
   "execution_count": 39,
   "metadata": {},
   "outputs": [
    {
     "data": {
      "image/png": "[encoded data removed]",
      "text/plain": [
       "<Figure size 432x288 with 1 Axes>"
      ]
     },
     "metadata": {},
     "output_type": "display_data"
    }
   ],
   "source": [
    "sns.violinplot(x=data.AgeGroup, y=data.weight, hue=\"gender\", data=data, palette=\"hls\")\n",
    "plt.show()"
   ]
  },
  {
   "cell_type": "markdown",
   "metadata": {},
   "source": [
    "**Exploramos Feature \"BMI\"** "
   ]
  },
  {
   "cell_type": "code",
   "execution_count": 40,
   "metadata": {},
   "outputs": [
    {
     "data": {
      "image/png": "[encoded data removed]",
      "text/plain": [
       "<Figure size 432x288 with 1 Axes>"
      ]
     },
     "metadata": {},
     "output_type": "display_data"
    },
    {
     "name": "stdout",
     "output_type": "stream",
     "text": [
      "Descripcion de la columna Bmi \n",
      " count    68421.000000\n",
      "mean        27.414887\n",
      "std          5.172745\n",
      "min          3.500000\n",
      "25%         23.900000\n",
      "50%         26.300000\n",
      "75%         30.100000\n",
      "max         69.800000\n",
      "Name: BMI, dtype: float64\n"
     ]
    }
   ],
   "source": [
    "exploracion(data, \"BMI\")"
   ]
  },
  {
   "cell_type": "markdown",
   "metadata": {},
   "source": [
    "Al inspeccionar la feature **\"BMI\"** con valores bajos, se observa BMIs mal calculados"
   ]
  },
  {
   "cell_type": "code",
   "execution_count": 41,
   "metadata": {
    "scrolled": true
   },
   "outputs": [
    {
     "data": {
      "text/html": [
       "<div>\n",
       "<style scoped>\n",
       "    .dataframe tbody tr th:only-of-type {\n",
       "        vertical-align: middle;\n",
       "    }\n",
       "\n",
       "    .dataframe tbody tr th {\n",
       "        vertical-align: top;\n",
       "    }\n",
       "\n",
       "    .dataframe thead th {\n",
       "        text-align: right;\n",
       "    }\n",
       "</style>\n",
       "<table border=\"1\" class=\"dataframe\">\n",
       "  <thead>\n",
       "    <tr style=\"text-align: right;\">\n",
       "      <th></th>\n",
       "      <th>height</th>\n",
       "      <th>weight</th>\n",
       "      <th>BMI</th>\n",
       "    </tr>\n",
       "  </thead>\n",
       "  <tbody>\n",
       "    <tr>\n",
       "      <th>5359</th>\n",
       "      <td>167</td>\n",
       "      <td>67.0</td>\n",
       "      <td>14.7</td>\n",
       "    </tr>\n",
       "    <tr>\n",
       "      <th>9482</th>\n",
       "      <td>172</td>\n",
       "      <td>72.0</td>\n",
       "      <td>13.5</td>\n",
       "    </tr>\n",
       "    <tr>\n",
       "      <th>10441</th>\n",
       "      <td>162</td>\n",
       "      <td>62.0</td>\n",
       "      <td>14.5</td>\n",
       "    </tr>\n",
       "    <tr>\n",
       "      <th>12914</th>\n",
       "      <td>174</td>\n",
       "      <td>74.0</td>\n",
       "      <td>14.9</td>\n",
       "    </tr>\n",
       "    <tr>\n",
       "      <th>16218</th>\n",
       "      <td>196</td>\n",
       "      <td>56.0</td>\n",
       "      <td>14.6</td>\n",
       "    </tr>\n",
       "  </tbody>\n",
       "</table>\n",
       "</div>"
      ],
      "text/plain": [
       "       height  weight   BMI\n",
       "5359      167    67.0  14.7\n",
       "9482      172    72.0  13.5\n",
       "10441     162    62.0  14.5\n",
       "12914     174    74.0  14.9\n",
       "16218     196    56.0  14.6"
      ]
     },
     "execution_count": 41,
     "metadata": {},
     "output_type": "execute_result"
    }
   ],
   "source": [
    "bmi_menor_15 = data[data[\"BMI\"] < 15]\n",
    "bmi_menor_15[[\"height\", \"weight\", \"BMI\"]].head()"
   ]
  },
  {
   "cell_type": "markdown",
   "metadata": {},
   "source": [
    "Fórmula BMI: peso (kg) / estatura (m<sup>2</sup>) [explicación](https://www.cdc.gov/healthyweight/spanish/assessing/bmi/adult_bmi/index.html#:~:text=%C2%BFC%C3%B3mo%20se%20calcula%20el%20IMC%3F,-El%20IMC%20se&text=Con%20el%20sistema%20m%C3%A9trico%2C%20la,obtener%20la%20estatura%20en%20metros)\n",
    "\n",
    "A su vez, considerando que había muchos errores en la feature **\"BMI\"**, se recalcula la misma."
   ]
  },
  {
   "cell_type": "code",
   "execution_count": 42,
   "metadata": {},
   "outputs": [],
   "source": [
    "group_bins = [0, 18.5, 24.9, 29.9, 60]\n",
    "\n",
    "group_labels = ['Bajo peso', 'Peso normal', 'Sobrepeso', 'Obesidad']"
   ]
  },
  {
   "cell_type": "code",
   "execution_count": 43,
   "metadata": {},
   "outputs": [
    {
     "name": "stdout",
     "output_type": "stream",
     "text": [
      "Valores únicos por categoría antes del tratamiento de los datos:\n",
      " Over Weight     25129\n",
      "Normal          24866\n",
      "Obese           17818\n",
      "Under Weight      608\n",
      "Name: BMICat, dtype: int64\n",
      "Valores únicos por categoría después del tratamiento de los datos:\n",
      " Sobrepeso      25542\n",
      "Peso normal    24766\n",
      "Obesidad       17833\n",
      "Bajo peso        261\n",
      "Name: BMICat, dtype: int64\n"
     ]
    },
    {
     "data": {
      "text/html": [
       "<div>\n",
       "<style scoped>\n",
       "    .dataframe tbody tr th:only-of-type {\n",
       "        vertical-align: middle;\n",
       "    }\n",
       "\n",
       "    .dataframe tbody tr th {\n",
       "        vertical-align: top;\n",
       "    }\n",
       "\n",
       "    .dataframe thead th {\n",
       "        text-align: right;\n",
       "    }\n",
       "</style>\n",
       "<table border=\"1\" class=\"dataframe\">\n",
       "  <thead>\n",
       "    <tr style=\"text-align: right;\">\n",
       "      <th></th>\n",
       "      <th>BMI</th>\n",
       "      <th>BMICat</th>\n",
       "    </tr>\n",
       "  </thead>\n",
       "  <tbody>\n",
       "    <tr>\n",
       "      <th>0</th>\n",
       "      <td>21.97</td>\n",
       "      <td>Peso normal</td>\n",
       "    </tr>\n",
       "    <tr>\n",
       "      <th>1</th>\n",
       "      <td>34.93</td>\n",
       "      <td>Obesidad</td>\n",
       "    </tr>\n",
       "    <tr>\n",
       "      <th>2</th>\n",
       "      <td>23.51</td>\n",
       "      <td>Peso normal</td>\n",
       "    </tr>\n",
       "    <tr>\n",
       "      <th>3</th>\n",
       "      <td>28.71</td>\n",
       "      <td>Sobrepeso</td>\n",
       "    </tr>\n",
       "    <tr>\n",
       "      <th>4</th>\n",
       "      <td>23.01</td>\n",
       "      <td>Peso normal</td>\n",
       "    </tr>\n",
       "  </tbody>\n",
       "</table>\n",
       "</div>"
      ],
      "text/plain": [
       "     BMI       BMICat\n",
       "0  21.97  Peso normal\n",
       "1  34.93     Obesidad\n",
       "2  23.51  Peso normal\n",
       "3  28.71    Sobrepeso\n",
       "4  23.01  Peso normal"
      ]
     },
     "execution_count": 43,
     "metadata": {},
     "output_type": "execute_result"
    }
   ],
   "source": [
    "BMI_categorico(data, \"BMI\", \"BMICat\", \"weight\", \"height\", group_bins, group_labels)"
   ]
  },
  {
   "cell_type": "code",
   "execution_count": 44,
   "metadata": {},
   "outputs": [
    {
     "data": {
      "image/png": "[encoded data removed]",
      "text/plain": [
       "<Figure size 432x288 with 1 Axes>"
      ]
     },
     "metadata": {},
     "output_type": "display_data"
    }
   ],
   "source": [
    "ax = sns.countplot(x=\"BMICat\", data=data, hue= 'gender', palette=\"hls\")\n",
    "plt.legend([\"Femenino\", \"Masculino\"])\n",
    "plt.title(\"Distribución categórica del BMI\")\n",
    "plt.xlabel(\"Categorías\")\n",
    "\n",
    "plt.show()"
   ]
  },
  {
   "cell_type": "markdown",
   "metadata": {},
   "source": [
    "**Exploramos Features \"ap_hi\", \"ap_lo\", \"cholesterol\", \"gluc\"** "
   ]
  },
  {
   "cell_type": "code",
   "execution_count": 45,
   "metadata": {},
   "outputs": [
    {
     "data": {
      "text/plain": [
       "ap_hi          0\n",
       "ap_lo          0\n",
       "cholesterol    0\n",
       "gluc           0\n",
       "dtype: int64"
      ]
     },
     "execution_count": 45,
     "metadata": {},
     "output_type": "execute_result"
    }
   ],
   "source": [
    "columns = ['ap_hi', 'ap_lo', 'cholesterol', 'gluc']\n",
    "data[columns].isnull().sum()"
   ]
  },
  {
   "cell_type": "code",
   "execution_count": 46,
   "metadata": {},
   "outputs": [
    {
     "data": {
      "text/html": [
       "<div>\n",
       "<style scoped>\n",
       "    .dataframe tbody tr th:only-of-type {\n",
       "        vertical-align: middle;\n",
       "    }\n",
       "\n",
       "    .dataframe tbody tr th {\n",
       "        vertical-align: top;\n",
       "    }\n",
       "\n",
       "    .dataframe thead th {\n",
       "        text-align: right;\n",
       "    }\n",
       "</style>\n",
       "<table border=\"1\" class=\"dataframe\">\n",
       "  <thead>\n",
       "    <tr style=\"text-align: right;\">\n",
       "      <th></th>\n",
       "      <th>ap_hi</th>\n",
       "      <th>ap_lo</th>\n",
       "      <th>cholesterol</th>\n",
       "      <th>gluc</th>\n",
       "    </tr>\n",
       "  </thead>\n",
       "  <tbody>\n",
       "    <tr>\n",
       "      <th>count</th>\n",
       "      <td>68421.000000</td>\n",
       "      <td>68421.000000</td>\n",
       "      <td>68421.00000</td>\n",
       "      <td>68421.000000</td>\n",
       "    </tr>\n",
       "    <tr>\n",
       "      <th>mean</th>\n",
       "      <td>126.639321</td>\n",
       "      <td>96.654770</td>\n",
       "      <td>1.36461</td>\n",
       "      <td>1.226232</td>\n",
       "    </tr>\n",
       "    <tr>\n",
       "      <th>std</th>\n",
       "      <td>18.141221</td>\n",
       "      <td>189.809431</td>\n",
       "      <td>0.67877</td>\n",
       "      <td>0.572067</td>\n",
       "    </tr>\n",
       "    <tr>\n",
       "      <th>min</th>\n",
       "      <td>-150.000000</td>\n",
       "      <td>-70.000000</td>\n",
       "      <td>1.00000</td>\n",
       "      <td>1.000000</td>\n",
       "    </tr>\n",
       "    <tr>\n",
       "      <th>25%</th>\n",
       "      <td>120.000000</td>\n",
       "      <td>80.000000</td>\n",
       "      <td>1.00000</td>\n",
       "      <td>1.000000</td>\n",
       "    </tr>\n",
       "    <tr>\n",
       "      <th>50%</th>\n",
       "      <td>120.000000</td>\n",
       "      <td>80.000000</td>\n",
       "      <td>1.00000</td>\n",
       "      <td>1.000000</td>\n",
       "    </tr>\n",
       "    <tr>\n",
       "      <th>75%</th>\n",
       "      <td>140.000000</td>\n",
       "      <td>90.000000</td>\n",
       "      <td>2.00000</td>\n",
       "      <td>1.000000</td>\n",
       "    </tr>\n",
       "    <tr>\n",
       "      <th>max</th>\n",
       "      <td>240.000000</td>\n",
       "      <td>11000.000000</td>\n",
       "      <td>3.00000</td>\n",
       "      <td>3.000000</td>\n",
       "    </tr>\n",
       "  </tbody>\n",
       "</table>\n",
       "</div>"
      ],
      "text/plain": [
       "              ap_hi         ap_lo  cholesterol          gluc\n",
       "count  68421.000000  68421.000000  68421.00000  68421.000000\n",
       "mean     126.639321     96.654770      1.36461      1.226232\n",
       "std       18.141221    189.809431      0.67877      0.572067\n",
       "min     -150.000000    -70.000000      1.00000      1.000000\n",
       "25%      120.000000     80.000000      1.00000      1.000000\n",
       "50%      120.000000     80.000000      1.00000      1.000000\n",
       "75%      140.000000     90.000000      2.00000      1.000000\n",
       "max      240.000000  11000.000000      3.00000      3.000000"
      ]
     },
     "execution_count": 46,
     "metadata": {},
     "output_type": "execute_result"
    }
   ],
   "source": [
    "data[columns].describe()"
   ]
  },
  {
   "cell_type": "markdown",
   "metadata": {},
   "source": [
    "**Explorando tensión arterial (TA):**"
   ]
  },
  {
   "cell_type": "markdown",
   "metadata": {},
   "source": [
    "**Presión sistólica**"
   ]
  },
  {
   "cell_type": "code",
   "execution_count": 47,
   "metadata": {},
   "outputs": [
    {
     "name": "stdout",
     "output_type": "stream",
     "text": [
      "Valores de TAS menores de 90 mmHg: 310\n",
      "Valores de TAS mayores de 240 mmHg: 0\n"
     ]
    }
   ],
   "source": [
    "print(f'Valores de TAS menores de 90 mmHg: {data.ap_hi[(data.ap_hi<90)].count()}')\n",
    "print(f'Valores de TAS mayores de 240 mmHg: {data.ap_hi[(data.ap_hi>240)].count()}')"
   ]
  },
  {
   "cell_type": "code",
   "execution_count": 48,
   "metadata": {},
   "outputs": [
    {
     "data": {
      "text/plain": [
       "array([  80,   14,   70,   11,   12,   10,   16, -100,   85,    7,   15,\n",
       "         17,    1,   13,   60, -115,   20, -140, -120, -150,   24],\n",
       "      dtype=int64)"
      ]
     },
     "execution_count": 48,
     "metadata": {},
     "output_type": "execute_result"
    }
   ],
   "source": [
    "# Analisis del los valores menores a 90 mmHg\n",
    "data.ap_hi[data.ap_hi<90].unique()"
   ]
  },
  {
   "cell_type": "markdown",
   "metadata": {},
   "source": [
    "**Presión diastólica**"
   ]
  },
  {
   "cell_type": "code",
   "execution_count": 49,
   "metadata": {},
   "outputs": [
    {
     "name": "stdout",
     "output_type": "stream",
     "text": [
      "valores con TAD menores de 40 mmHg: 50\n",
      "valores con TAD mayores de 120 mmHg: 1030\n"
     ]
    }
   ],
   "source": [
    "print(f'valores con TAD menores de 40 mmHg: {data.ap_lo[data.ap_lo<40].count()}')\n",
    "print(f'valores con TAD mayores de 120 mmHg: {data.ap_lo[data.ap_lo>120].count()}')"
   ]
  },
  {
   "cell_type": "markdown",
   "metadata": {},
   "source": [
    "Analisis del los valores menores de 40 y mayores de 120 mmHg"
   ]
  },
  {
   "cell_type": "code",
   "execution_count": 50,
   "metadata": {},
   "outputs": [
    {
     "data": {
      "text/plain": [
       "array([ 1100,  1000,   800,    30,  1033,   150,  1001,  1200, 10000,\n",
       "        8044,   140,   125,   170,   160,   130,  9100,    10,   902,\n",
       "        1008,  2088,    20,   802,  8000,     8,  1022,   850,   708,\n",
       "        9011,  1011,     0,  1007,  1177,  7100,   709,  8500,  1110,\n",
       "        8099,  1088,   126,  1077,  1120,     7,  1125,   180,   121,\n",
       "        8100,   710,  5700,  8079,  1111,  1003,     6,  1900,   809,\n",
       "         801,  1002,   182,   810,     9,  7099, 11000,  9800,  8200,\n",
       "        1139,   820,  1400,   190,   900,   122,  6800,   135,   700,\n",
       "          15,  1101,   910,  1140,  1211,   -70,  8077,   901,   880,\n",
       "         870,   585,   602], dtype=int64)"
      ]
     },
     "execution_count": 50,
     "metadata": {},
     "output_type": "execute_result"
    }
   ],
   "source": [
    "data.ap_lo[(data.ap_lo<40)|(data.ap_lo>120)].unique()"
   ]
  },
  {
   "cell_type": "markdown",
   "metadata": {},
   "source": [
    "Corrección TAS y TAD (se consideran diferentes errores de carga)"
   ]
  },
  {
   "cell_type": "code",
   "execution_count": 51,
   "metadata": {},
   "outputs": [],
   "source": [
    "data['TAS'] = data.ap_hi.apply(correct_TA, args=((90,240),0))\n",
    "data['TAD'] = data.ap_lo.apply(correct_TA, args=((40,120),0))"
   ]
  },
  {
   "cell_type": "markdown",
   "metadata": {},
   "source": [
    "Se eliminan las columnas ap_hi y ap_lo"
   ]
  },
  {
   "cell_type": "code",
   "execution_count": 52,
   "metadata": {},
   "outputs": [],
   "source": [
    "data.drop(columns=['ap_hi','ap_lo'], inplace=True)"
   ]
  },
  {
   "cell_type": "code",
   "execution_count": 53,
   "metadata": {},
   "outputs": [
    {
     "name": "stdout",
     "output_type": "stream",
     "text": [
      "cantidad de valores en TAS sin poder corregir: 129\n",
      "cantidad de valores en TAD sin poder corregir: 167\n"
     ]
    }
   ],
   "source": [
    "print(f'cantidad de valores en TAS sin poder corregir: {data.TAS[data.TAS == 999].count()}')\n",
    "print(f'cantidad de valores en TAD sin poder corregir: {data.TAD[data.TAD == 999].count()}')"
   ]
  },
  {
   "cell_type": "markdown",
   "metadata": {},
   "source": [
    "Se imputan los datos faltantes de TAD o TAS utilizando un delta de 40 mmHg entre uno y otro"
   ]
  },
  {
   "cell_type": "code",
   "execution_count": 54,
   "metadata": {},
   "outputs": [],
   "source": [
    "data = data.apply(complete_TA, axis=1)"
   ]
  },
  {
   "cell_type": "code",
   "execution_count": 55,
   "metadata": {},
   "outputs": [
    {
     "name": "stdout",
     "output_type": "stream",
     "text": [
      "hay 8 casos en que la TAS es <= TAD\n"
     ]
    }
   ],
   "source": [
    "print(f'hay {data.TAS[(data.TAS <= data.TAD)].count()} casos en que la TAS es <= TAD')"
   ]
  },
  {
   "cell_type": "markdown",
   "metadata": {},
   "source": [
    "Se corrigen las incoherencias entre TAS y TAD (considerando la TAS como valor de referencia)"
   ]
  },
  {
   "cell_type": "code",
   "execution_count": 56,
   "metadata": {},
   "outputs": [
    {
     "name": "stdout",
     "output_type": "stream",
     "text": [
      "hay 0 casos en que la TAS es <= TAD\n"
     ]
    }
   ],
   "source": [
    "data = data.apply(control_TA, axis=1)\n",
    "\n",
    "print(f'hay {data.TAS[(data.TAS <= data.TAD)].count()} casos en que la TAS es <= TAD')"
   ]
  },
  {
   "cell_type": "code",
   "execution_count": 57,
   "metadata": {},
   "outputs": [
    {
     "data": {
      "text/plain": [
       "gender          0\n",
       "height          0\n",
       "weight          0\n",
       "cholesterol     0\n",
       "gluc            0\n",
       "smoke           0\n",
       "alco            0\n",
       "active          0\n",
       "cardio          0\n",
       "AgeinYr         0\n",
       "BMI             0\n",
       "BMICat         19\n",
       "AgeGroup        0\n",
       "AgeCat          0\n",
       "new_weight      0\n",
       "TAS            16\n",
       "TAD            16\n",
       "dtype: int64"
      ]
     },
     "execution_count": 57,
     "metadata": {},
     "output_type": "execute_result"
    }
   ],
   "source": [
    "data.isnull().sum()"
   ]
  },
  {
   "cell_type": "markdown",
   "metadata": {},
   "source": [
    "Se eliminan valores nulos"
   ]
  },
  {
   "cell_type": "code",
   "execution_count": 58,
   "metadata": {},
   "outputs": [],
   "source": [
    "data = data.dropna()"
   ]
  },
  {
   "cell_type": "markdown",
   "metadata": {},
   "source": [
    "**Presión de pulso   [explicación](https://en.wikipedia.org/wiki/Pulse_pressure#Relationship_to_heart_disease)**"
   ]
  },
  {
   "cell_type": "markdown",
   "metadata": {},
   "source": [
    "Se genera la variable PP (presión de pulso)"
   ]
  },
  {
   "cell_type": "code",
   "execution_count": 59,
   "metadata": {},
   "outputs": [
    {
     "name": "stdout",
     "output_type": "stream",
     "text": [
      "count    68386.000000\n",
      "mean        45.466711\n",
      "std         11.715282\n",
      "min          5.000000\n",
      "25%         40.000000\n",
      "50%         40.000000\n",
      "75%         50.000000\n",
      "max        140.000000\n",
      "Name: PP, dtype: float64\n"
     ]
    }
   ],
   "source": [
    "data['PP'] = data.TAS - data.TAD\n",
    "print(data.PP.describe())"
   ]
  },
  {
   "cell_type": "code",
   "execution_count": 60,
   "metadata": {},
   "outputs": [],
   "source": [
    "data.to_csv('../data/data_limpia.csv', index_label=False)"
   ]
  },
  {
   "cell_type": "code",
   "execution_count": null,
   "metadata": {},
   "outputs": [],
   "source": []
  }
 ],
 "metadata": {
  "interpreter": {
   "hash": "bd42702498b0640961f86ea2e6d89f23caae50ab5e860e3e1107473170536751"
  },
  "kernelspec": {
   "display_name": "Python 3",
   "language": "python",
   "name": "python3"
  },
  "language_info": {
   "codemirror_mode": {
    "name": "ipython",
    "version": 3
   },
   "file_extension": ".py",
   "mimetype": "text/x-python",
   "name": "python",
   "nbconvert_exporter": "python",
   "pygments_lexer": "ipython3",
   "version": "3.8.8"
  }
 },
 "nbformat": 4,
 "nbformat_minor": 2
}
